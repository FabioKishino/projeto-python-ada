{
 "cells": [
  {
   "cell_type": "code",
   "execution_count": 2,
   "metadata": {},
   "outputs": [],
   "source": [
    "import numpy\n",
    "import pandas as pd"
   ]
  },
  {
   "cell_type": "code",
   "execution_count": 8,
   "metadata": {},
   "outputs": [
    {
     "data": {
      "text/plain": [
       "(173739, 20)"
      ]
     },
     "execution_count": 8,
     "metadata": {},
     "output_type": "execute_result"
    }
   ],
   "source": [
    "# Read datasets from Datasets folder\n",
    "\n",
    "# Reading all datasets\n",
    "df1 = pd.read_excel('Datasets/Nov 2023 - 156 - Base de Dados.xlsx')\n",
    "df2 = pd.read_excel('Datasets/Oct 2023 - 156 - Base de Dados.xlsx')\n",
    "df3 = pd.read_excel('Datasets/Set 2023 - 156 - Base de Dados.xlsx')\n",
    "df4 = pd.read_excel('Datasets/Ago 2023 - 156 - Base de Dados.xlsx')\n",
    "df5 = pd.read_excel('Datasets/Jul 2023 - 156 - Base de Dados.xlsx')\n",
    "\n",
    "# Elimitate the first row of the datasets \n",
    "df1 = df1.drop([0])\n",
    "df2 = df2.drop([0])\n",
    "df3 = df3.drop([0])\n",
    "df4 = df4.drop([0])\n",
    "df5 = df5.drop([0])\n",
    "\n",
    "# Contatenate the datasets\n",
    "df = pd.concat([df1, df2, df3, df4, df5])\n",
    "\n",
    "# Drop all the Unnamed columns\n",
    "df = df.loc[:, ~df.columns.str.contains('^Unnamed')]\n",
    "\n",
    "df.head()"
   ]
  },
  {
   "cell_type": "code",
   "execution_count": null,
   "metadata": {},
   "outputs": [],
   "source": []
  }
 ],
 "metadata": {
  "kernelspec": {
   "display_name": "Python 3",
   "language": "python",
   "name": "python3"
  },
  "language_info": {
   "codemirror_mode": {
    "name": "ipython",
    "version": 3
   },
   "file_extension": ".py",
   "mimetype": "text/x-python",
   "name": "python",
   "nbconvert_exporter": "python",
   "pygments_lexer": "ipython3",
   "version": "3.11.4"
  }
 },
 "nbformat": 4,
 "nbformat_minor": 2
}
