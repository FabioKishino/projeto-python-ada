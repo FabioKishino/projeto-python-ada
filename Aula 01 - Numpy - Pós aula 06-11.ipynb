{
 "cells": [
  {
   "cell_type": "markdown",
   "id": "eace38e1",
   "metadata": {},
   "source": [
    "# Exercício de aquecimento\n",
    "\n",
    "- Crie uma lista de 1 milhão de elementos, onde cada elemento tem numeros aleatorios entre 1 e 20\n",
    "- Agora calcule a soma de todos os elementos dessa lista\n",
    "- Identifique o tempo que demora calcular a soma (pode usar a biblioteca ``time``)"
   ]
  },
  {
   "cell_type": "code",
   "execution_count": 2,
   "id": "ea7d4a6c",
   "metadata": {},
   "outputs": [
    {
     "data": {
      "text/plain": [
       "[0, 1, 2]"
      ]
     },
     "execution_count": 2,
     "metadata": {},
     "output_type": "execute_result"
    }
   ],
   "source": [
    "list(range(3))"
   ]
  },
  {
   "cell_type": "code",
   "execution_count": 4,
   "id": "55d0f987",
   "metadata": {},
   "outputs": [
    {
     "data": {
      "text/plain": [
       "[12, 13, 14]"
      ]
     },
     "execution_count": 4,
     "metadata": {},
     "output_type": "execute_result"
    }
   ],
   "source": [
    "lista = []\n",
    "\n",
    "lista.append(12)\n",
    "lista.append(13)\n",
    "lista.append(14)\n",
    "\n",
    "lista "
   ]
  },
  {
   "cell_type": "code",
   "execution_count": 20,
   "id": "9e8c8a41",
   "metadata": {},
   "outputs": [
    {
     "data": {
      "text/plain": [
       "18"
      ]
     },
     "execution_count": 20,
     "metadata": {},
     "output_type": "execute_result"
    }
   ],
   "source": [
    "import random\n",
    "\n",
    "random.randint(1, 20)"
   ]
  },
  {
   "cell_type": "code",
   "execution_count": 25,
   "id": "89a8bddb",
   "metadata": {},
   "outputs": [
    {
     "data": {
      "text/plain": [
       "10"
      ]
     },
     "execution_count": 25,
     "metadata": {},
     "output_type": "execute_result"
    }
   ],
   "source": [
    "lista = [1,2,3,4]\n",
    "\n",
    "sum(lista)"
   ]
  },
  {
   "cell_type": "code",
   "execution_count": 35,
   "id": "1199c1d4",
   "metadata": {},
   "outputs": [
    {
     "data": {
      "text/plain": [
       "1698708878.122854"
      ]
     },
     "execution_count": 35,
     "metadata": {},
     "output_type": "execute_result"
    }
   ],
   "source": [
    "#time\n",
    "\n",
    "import time\n",
    "\n",
    "time.time()"
   ]
  },
  {
   "cell_type": "code",
   "execution_count": 180,
   "id": "c3352327",
   "metadata": {},
   "outputs": [
    {
     "name": "stdout",
     "output_type": "stream",
     "text": [
      "O tempo total para calcular a soma usando listas foi: 0.12343883514404297\n",
      "O tempo total para calcular a soma usando listas de numpy foi: 0.012473344802856445\n",
      "A lista de numpy foi 9.896209645048454 vezes mais rapida.\n"
     ]
    }
   ],
   "source": [
    "import random\n",
    "import time \n",
    "\n",
    "# Crie uma lista de 1 milhão de elementos, onde cada elemento tem numeros aleatorios entre 1 e 20\n",
    "tamanho_lista = 50000000\n",
    "\n",
    "lista = []\n",
    "\n",
    "for indice in range(tamanho_lista):\n",
    "    valor = random.randint(1, 20)\n",
    "    lista.append(valor)\n",
    "\n",
    "# Agora calcule a soma de todos os elementos dessa lista\n",
    "# Identifique o tempo que demora calcular a soma\n",
    "\n",
    "hora_inicial = time.time()\n",
    "soma_total = sum(lista)\n",
    "hora_final = time.time()\n",
    "\n",
    "tempo_total = hora_final - hora_inicial\n",
    "\n",
    "# criando a lista numpy\n",
    "lista_np = np.array(lista)\n",
    "\n",
    "\n",
    "print(f\"O tempo total para calcular a soma usando listas foi: {tempo_total}\")\n",
    "\n",
    "\n",
    "hora_inicial = time.time()\n",
    "soma_total = np.sum(lista_np)\n",
    "hora_final = time.time()\n",
    "\n",
    "tempo_total_np = hora_final - hora_inicial\n",
    "\n",
    "print(f\"O tempo total para calcular a soma usando listas de numpy foi: {tempo_total_np}\")\n",
    "\n",
    "proporcao = tempo_total / tempo_total_np\n",
    "\n",
    "print(f\"A lista de numpy foi {proporcao} vezes mais rapida.\")\n",
    "    \n",
    "#print(lista)"
   ]
  },
  {
   "cell_type": "markdown",
   "id": "478664fe-c2f1-4dfc-9a60-207aab47777e",
   "metadata": {},
   "source": [
    "# NumPy\n",
    "-------\n",
    "\n",
    "Muitos trabalhos aplicados em empresa envolvem cálculos matemáticos avançados, e por isso precisam se apoiar em alguma biblioteca. Quer trabalhemos com estatística, aprendizado de máquina, processamento de imagem, de texto, de áudio, com otimização, ou até simulação de sistemas reais, uma boa biblioteca matemática é fundamental. \n",
    "\n",
    "No Python, a biblioteca [**NumPy**][NumPy_docs] (abreviação para *Numerical Python* [\\[2\\]](#2)) faz esse papel. Ela é uma poderosíssima biblioteca matemática, e é um dos cernes da computação científica e ciência de dados em Python.\n",
    "\n",
    "Os cálculos realizados pelo NumPy são baseados em operações com os chamados Arrays Multidimensionais (em matemática, chamamos de vetores, matrizes ou tensores). Esses objetos fundamentais da biblioteca são basicamente \"listas de listas de listas de ...\". O NumPy implementa operações nesses objetos de forma eficiente, em uma linguagem de mais baixo nível (linguagem C), o que confere a eles enorme velocidade e eficiência. Nós aproveitamos essa eficiência através da interface amigável que a biblioteca possui em Python.\n",
    "\n",
    "Quando organizamos nosso código para aproveitar as operações do NumPy, é comum dizermos que nós \"vetorizamos\" o nosso código. Isso significa que evitamos loops explícitos no código Python, e reescrevemos tudo usando os arrays do NumPy. Assim, conseguimos aproveitar toda a velocidade das operações \"vetorizadas\", acelerando muito o nosos código.\n",
    "\n",
    "A esmagadora maioria das bibliotecas de Python para computação científica, processamento de dados e ciência de dados (como por exemplo, SciPy, pandas, scikit-learn e statsmodels) se apoiam nas funcionalidades do NumPy [\\[2\\]](#2). \n",
    "\n",
    "1. [Instalação](#1instalacao)\n",
    "2. [Introdução ao NumPy](#2introducao)\n",
    "    1. [Cuidados iniciais: Como copiar arrays](#21copiar)\n",
    "    2. [Propriedades de ndarrays](#22propriedades)\n",
    "    3. [Acessando e modificando elementos (Indexing & Slicing)](#23indexing)\n",
    "    4. [Máscara Booleana e Seleção Avançada](#24boolmask)\n",
    "    5. [Métodos built-in de criação de arrays](#25arraycreate)\n",
    "O argumento é o formato do ndarray resultante. [](#)\n",
    "O argumento é o formato do array resultante. [](#)\n",
    "3. [Matemática com NumPy](#3matematica)\n",
    "    1. [Broadcasting](#31broadcasting)\n",
    "    2. [Funções matemáticas](#32funcoesmath)\n",
    "4. [Álgebra Linear e Estatística básica](#4algelinestat)\n",
    "    1. [Álgebra Linear](#41algelin)\n",
    "    2. [Estatística](#42estat)\n",
    "    \n",
    "\n",
    "## 1. Instalação  <a name=\"1instalacao\"></a>\n",
    "\n",
    "Como falamos antes, o NumPy nada mais é que uma biblioteca do Python. Dito isso, para instalarmos ele, fazemos de forma semelhante a qualquer outra biblioteca Python.\n",
    "\n",
    "Entre as diversas formas de fazer isso, a mais simples é instalar o pacote Anaconda (https://www.anaconda.com/distribution/). Ele já vem com o Python e diversas bibliotecas científicas e de ciência de dados instaladas. Se preferir reinstalar depois, o anaconda provê também o gerenciador de pacotes Conda, e assim é possível intalar o NumPy através do terminal.\n",
    "```\n",
    "$ conda install numpy\n",
    "```\n",
    "\n",
    "Caso prefira, você também pode instalar via o gerenciador de pacotes nativo do Python, o `pip`.  Para isso, utilizamos o comando abaixo via terminal.\n",
    "```\n",
    "$ pip install numpy\n",
    "```\n",
    "\n",
    "Para quem for usuário com maior conhecimento de programação e computação científica, recomenda-se uma lida nas [instruções de instalação mais detalhadas do NumPy][NumPy_install]. \n",
    "\n",
    "O maior motivo para isso é o fato de que, por trás dos panos, o NumPy utiliza as chamadas \"bibliotecas de álgebra linear aceleradas\", que pode ser tanto a biblioteca Intel MKL quanto a biblioteca OpenBLAS. Em algumas situações, é importante escolher qual das duas será usada pela sua instalação do NumPy.\n",
    "\n",
    "Embora existam questões de performance computacionais para essa escolha, existem também motivos de negócio. A biblioteca Intel MKL não é de código fonte aberto, e sua licença pode não permitir alguns tipos de distribuição do código que você esteja desenvolvendo com o NumPy.\n",
    "\n",
    "\n",
    "## 2. Introdução ao NumPy  <a name=\"2introducao\"></a>\n",
    "\n",
    "A primeira coisa que precisamos fazer para usar o NumPy em um código, é importar a biblioteca. A importação funciona como qualquer outra biblioteca Python, porém o alias `np` para a biblioteca é amplamente utilizado pela comunidade de usuários do Python. A importação então é sempre feita da forma abaixo."
   ]
  },
  {
   "cell_type": "code",
   "execution_count": 2,
   "id": "0b7202fd-657a-41db-a151-9c0343d9673f",
   "metadata": {
    "tags": []
   },
   "outputs": [],
   "source": [
    "import numpy as np"
   ]
  },
  {
   "cell_type": "markdown",
   "id": "12dde84c-e06b-483f-a12d-59426de1566b",
   "metadata": {},
   "source": [
    "Com esse alias, o nosso código fica bem menor, facilitando para outras pessoas entenderem ele depois. Como o alias é comum na comunidade, ele também não gera confusões, e permite sabermos sempre quando alguma operação feita é nativa do NumPy.\n",
    "\n",
    "\n",
    "Na introdução, comentamos que a estrutura de dados básica do NumPy é um \"array multidimensional\". Esse objeto do NumPy se chama **ndarray**. Um mnemônico para ajudar a lembrar é lembrar pensar em \"N Dimensões ARRAY\", ou \"NDARRAY\". Basta lembrar que o \"nd\" significa \"n-dimensional\", pois também podemos ter tabelas multidimensionais.\n",
    "\n",
    "\n",
    "Essa estrutura é semelhante aos arrays de outras linguagens de programação. Pode ser uma lista de valores, uma tabela, ou uma tabela de tabelas. O importante é que todos os valores são do mesmo \"tipo\". Se um deles é um número inteiro, todos serão. Se um deles for um float, todos serão. Esse tipo é chamado de **dtype**.\n",
    "\n",
    "O mais comum é usarmos ndarrays como listas ou tabelas de valores.\n",
    "\n",
    "No caso de uma lista, nós temos um ndarray de uma dimensão. Matematicamente, esse objeto é equivalente a um vetor.\n",
    "\n",
    "O método mais comum de criar um ndarray é usando a função `np.array`. Assim, para criar nosso \"vetor\", usamos o comando abaixo."
   ]
  },
  {
   "cell_type": "code",
   "execution_count": null,
   "id": "cd38c987-3516-44c7-a0fd-f333d2cd3525",
   "metadata": {
    "tags": []
   },
   "outputs": [],
   "source": [
    "vetor = np.array([1, 2, 3])\n",
    "\n",
    "print(vetor)"
   ]
  },
  {
   "cell_type": "code",
   "execution_count": 47,
   "id": "cb420817",
   "metadata": {},
   "outputs": [
    {
     "data": {
      "text/plain": [
       "list"
      ]
     },
     "execution_count": 47,
     "metadata": {},
     "output_type": "execute_result"
    }
   ],
   "source": [
    "lista = [1, 2, 3]\n",
    "\n",
    "type(lista)"
   ]
  },
  {
   "cell_type": "code",
   "execution_count": 45,
   "id": "d34348b5",
   "metadata": {},
   "outputs": [
    {
     "name": "stdout",
     "output_type": "stream",
     "text": [
      "[1 2 3]\n"
     ]
    }
   ],
   "source": [
    "lista = [1, 2, 3]\n",
    "\n",
    "vetor = np.array(lista)\n",
    "\n",
    "print(vetor)"
   ]
  },
  {
   "cell_type": "markdown",
   "id": "c0e1367a-139f-4feb-b5d6-f4bab4186526",
   "metadata": {},
   "source": [
    "Se olharmos o tipo da variável `vetor`, veremos que ela é do tipo `NumPy.ndarray`."
   ]
  },
  {
   "cell_type": "code",
   "execution_count": 48,
   "id": "6390c520-6f33-4694-9af2-ee61ce22a7c9",
   "metadata": {
    "tags": []
   },
   "outputs": [
    {
     "data": {
      "text/plain": [
       "numpy.ndarray"
      ]
     },
     "execution_count": 48,
     "metadata": {},
     "output_type": "execute_result"
    }
   ],
   "source": [
    "# Olhando o 'type'\n",
    "type(vetor)"
   ]
  },
  {
   "cell_type": "markdown",
   "id": "5d911705-6c7c-46b8-8bca-f7f87b886807",
   "metadata": {},
   "source": [
    "Podemos criar também uma tabela com duas dimensões. Nesse caso, temos uma matriz."
   ]
  },
  {
   "cell_type": "code",
   "execution_count": 49,
   "id": "b54599c0",
   "metadata": {},
   "outputs": [
    {
     "data": {
      "text/plain": [
       "[[1, 2], [3, 4]]"
      ]
     },
     "execution_count": 49,
     "metadata": {},
     "output_type": "execute_result"
    }
   ],
   "source": [
    "matriz = [[1, 2], [3, 4]]\n",
    "\n",
    "matriz"
   ]
  },
  {
   "cell_type": "code",
   "execution_count": 50,
   "id": "768a718d-5642-405f-8ec3-d361b67ae7c2",
   "metadata": {
    "tags": []
   },
   "outputs": [
    {
     "name": "stdout",
     "output_type": "stream",
     "text": [
      "[[1 2]\n",
      " [3 4]]\n"
     ]
    }
   ],
   "source": [
    "matriz = np.array([[1, 2], [3, 4]])\n",
    "print(matriz)"
   ]
  },
  {
   "cell_type": "markdown",
   "id": "394ef0e6-6db5-4444-a6c6-66cb316eb4c8",
   "metadata": {},
   "source": [
    "É possível, também, aumentar o número de dimensões. Nesse caso, se tivermos 3 dimensões, por exemplo, teríamos uma lista de tabelas. Se forem 4 dimensões, então temos uma tabela cujos elementos são tabelas. Assim, quanto mais dimensões, nós vamos empilhando em uma lista objetos com menos dimensões. Se forem 5 dimensões, temos uma lista de ndarrays de 4 dimensões (ou uma lista de tabelas de tabelas).\n",
    "\n",
    "Matematicamente, quando temos 3 dimensões ou mais, nós chamamos esse objeto de um tensor. "
   ]
  },
  {
   "cell_type": "code",
   "execution_count": 51,
   "id": "2ca02c7a-950c-42ac-91aa-098426d28f50",
   "metadata": {
    "tags": []
   },
   "outputs": [
    {
     "name": "stdout",
     "output_type": "stream",
     "text": [
      "[[[1 2]\n",
      "  [3 4]]\n",
      "\n",
      " [[1 0]\n",
      "  [0 1]]]\n"
     ]
    }
   ],
   "source": [
    "tensor = np.array([[[1, 2], [3, 4]], [[1, 0],[0, 1]]])\n",
    "print(tensor)"
   ]
  },
  {
   "cell_type": "markdown",
   "id": "f3ee7bed-2430-4de2-acc7-3b14dc626308",
   "metadata": {},
   "source": [
    "Note que a variável `tensor` nada mais é que duas tabelas.\n",
    "\n",
    "Uma representação visual de ndarrays podem ajudar a entender melhor o que está acontecendo.\n",
    "\n",
    "![NumPy_ndarray](https://s3-sa-east-1.amazonaws.com/lcpi/b50bd331-732b-48a4-9d46-01f20c15ab29.png \"ndarrays\"){width=\"400\" height=\"450\"}\n",
    "\n",
    "(**Fonte:** Imagem adaptada da original, disponível pela ABRACD [\\[5\\]](#5))\n",
    "\n",
    "O *ndarray* é a estrutura de dados básica do NumPy, e a que usaremos sempre. A partir dela que toda a \"matemágica\" acontece. Todo o poder do NumPy vem da implementação desse tipo de array e as operações relacionadas, que são mais eficientes que usar variáveis do tipo `list` em Python (embora ndarrays sejam menos flexíveis). \n",
    "\n",
    "Esses objetos também são muito comuns em matemática, pois representam basicamente vetores e matrizes. Assim, é bem direto \"vetorizar\" nosso código escrevendo-o de forma bem parecida com como faríamos em notação matemática.\n",
    "\n",
    "Obs: Falamos antes também de tensores. Não é importante entender o que eles são para poder usar o NumPy. Apenas cálculos muito específicos se utilizam da matemática de tensores. Para a maioria dos casos, basta ter a visão que demos acima, sobre como eles são basicamente \"matrizes com 3 ou mais dimensões\". Isso significa que eles podem ser uma lista de tabelas, uma tabela de tabelas, uma lista de tabelas de tabelas, uma tabela de tabelas de tabelas, e por aí vai...\n",
    "\n",
    "### 2.1. Cuidados iniciais: Como copiar arrays  <a name=\"21copiar\"></a>\n",
    "\n",
    "Antes de começar a ver as propriedades básicas de um ndarray, é importante ter uma questão muito importante em mente. Assim como os arrays nativos do Python, devido à forma como o NumPy trabalha com ndarrays na memória do computador, eles se comportam da forma mostrada abaixo."
   ]
  },
  {
   "cell_type": "code",
   "execution_count": 57,
   "id": "dd28a4dd",
   "metadata": {},
   "outputs": [
    {
     "name": "stdout",
     "output_type": "stream",
     "text": [
      "[1, 2, 3]\n",
      "[20, 2, 3]\n"
     ]
    }
   ],
   "source": [
    "lista = [1, 2, 3]\n",
    "lista_2 = lista.copy()\n",
    "\n",
    "lista_2[0] = 20\n",
    "\n",
    "print(lista)\n",
    "print(lista_2)"
   ]
  },
  {
   "cell_type": "code",
   "execution_count": 64,
   "id": "e7003438-7882-4d45-a2bd-55fb913e7bc2",
   "metadata": {
    "tags": []
   },
   "outputs": [
    {
     "data": {
      "text/plain": [
       "array([1, 2, 3])"
      ]
     },
     "execution_count": 64,
     "metadata": {},
     "output_type": "execute_result"
    }
   ],
   "source": [
    "lista_basica = [1, 2, 3]\n",
    "\n",
    "a = np.array(lista_basica)\n",
    "b = a\n",
    "b"
   ]
  },
  {
   "cell_type": "code",
   "execution_count": 59,
   "id": "db6b0f9d-0a89-4701-bd24-6cdf20b31e98",
   "metadata": {
    "tags": []
   },
   "outputs": [
    {
     "data": {
      "text/plain": [
       "array([100,   2,   3])"
      ]
     },
     "execution_count": 59,
     "metadata": {},
     "output_type": "execute_result"
    }
   ],
   "source": [
    "b[0] = 100\n",
    "b"
   ]
  },
  {
   "cell_type": "code",
   "execution_count": 60,
   "id": "1d848c49-9305-4aee-8942-f04e56e83cc5",
   "metadata": {
    "tags": []
   },
   "outputs": [
    {
     "data": {
      "text/plain": [
       "array([100,   2,   3])"
      ]
     },
     "execution_count": 60,
     "metadata": {},
     "output_type": "execute_result"
    }
   ],
   "source": [
    "a"
   ]
  },
  {
   "cell_type": "markdown",
   "id": "0b7fd182-8bde-4265-b016-5a96466fed42",
   "metadata": {},
   "source": [
    "Note que no bloco de código, a variável `a` foi modificada depois que alteramos a variável `b`! Isso acontece porque ambas as variáveis apontam para o mesmo endereço de memória do computador. Quando fazemos `b[0] = 100`, estamos alterando o valor do primeiro elemento de `b` na memória. Como `a[0]` aponta para o mesmo lugar na memória, ele vai passar a ver o valor novo. Logo, teremos que seu valor será `100`.\n",
    "\n",
    "Por este motivo, sempre que queremos copiar um array de uma variável para outra, usamos o método `copy()`."
   ]
  },
  {
   "cell_type": "code",
   "execution_count": 61,
   "id": "e430ae2c-6bcf-40c1-a06d-90f0f53514f6",
   "metadata": {
    "tags": []
   },
   "outputs": [
    {
     "data": {
      "text/plain": [
       "array([1, 2, 3])"
      ]
     },
     "execution_count": 61,
     "metadata": {},
     "output_type": "execute_result"
    }
   ],
   "source": [
    "a = np.array([1, 2, 3])\n",
    "b = a.copy()\n",
    "b"
   ]
  },
  {
   "cell_type": "code",
   "execution_count": 62,
   "id": "a7a63f6e-f426-4c1a-bc0d-5755e795ef2d",
   "metadata": {
    "tags": []
   },
   "outputs": [
    {
     "data": {
      "text/plain": [
       "array([100,   2,   3])"
      ]
     },
     "execution_count": 62,
     "metadata": {},
     "output_type": "execute_result"
    }
   ],
   "source": [
    "b[0] = 100\n",
    "b"
   ]
  },
  {
   "cell_type": "code",
   "execution_count": 63,
   "id": "9de28fa3-10b0-4075-9f70-1525538e12db",
   "metadata": {
    "tags": []
   },
   "outputs": [
    {
     "data": {
      "text/plain": [
       "array([1, 2, 3])"
      ]
     },
     "execution_count": 63,
     "metadata": {},
     "output_type": "execute_result"
    }
   ],
   "source": [
    "a"
   ]
  },
  {
   "cell_type": "markdown",
   "id": "abc6789b-dd8a-47d8-8e4c-1c255849075a",
   "metadata": {},
   "source": [
    "O método `copy()` copia todos os valores do array para um novo endereço de memória. Assim, a variável `b` passa a apontar para esse novo endereço, e evitamos o problema anterior.\n",
    "\n",
    "### 2.2. Propriedades de ndarrays  <a name=\"22propriedades\"></a>\n",
    "\n",
    "#### Dimensão e formato\n",
    "\n",
    "Como vimos antes, é possível criar um ndarray com diferentes dimensões e formatos. Cada ndarray tem os atributos `ndim` e `shape` que guardam estas informações. Logo, para sabermos como é o nosso array, basta acessar esses atributos."
   ]
  },
  {
   "cell_type": "code",
   "execution_count": 86,
   "id": "2aa3d65f",
   "metadata": {},
   "outputs": [
    {
     "data": {
      "text/plain": [
       "array([[[1, 2, 3],\n",
       "        [4, 5, 6]]])"
      ]
     },
     "execution_count": 86,
     "metadata": {},
     "output_type": "execute_result"
    }
   ],
   "source": [
    "array_teste = np.array([   [[1, 2, 3], [4, 5, 6]]  ])\n",
    "array_teste"
   ]
  },
  {
   "cell_type": "code",
   "execution_count": 84,
   "id": "08f8b18b",
   "metadata": {},
   "outputs": [
    {
     "data": {
      "text/plain": [
       "(1, 2, 3)"
      ]
     },
     "execution_count": 84,
     "metadata": {},
     "output_type": "execute_result"
    }
   ],
   "source": [
    "array_teste.shape "
   ]
  },
  {
   "cell_type": "code",
   "execution_count": 66,
   "id": "12444601",
   "metadata": {},
   "outputs": [
    {
     "data": {
      "text/plain": [
       "(3,)"
      ]
     },
     "execution_count": 66,
     "metadata": {},
     "output_type": "execute_result"
    }
   ],
   "source": [
    "vetor.shape"
   ]
  },
  {
   "cell_type": "code",
   "execution_count": 65,
   "id": "4344b177-4e27-49ab-b94b-526b07bbc7ff",
   "metadata": {
    "tags": []
   },
   "outputs": [
    {
     "name": "stdout",
     "output_type": "stream",
     "text": [
      "1\n",
      "(3,)\n",
      "2\n",
      "(2, 2)\n",
      "3\n",
      "(2, 2, 2)\n"
     ]
    }
   ],
   "source": [
    "print(vetor.ndim)\n",
    "print(vetor.shape)\n",
    "print(matriz.ndim)\n",
    "print(matriz.shape)\n",
    "print(tensor.ndim)\n",
    "print(tensor.shape)"
   ]
  },
  {
   "cell_type": "markdown",
   "id": "bb7abec0-a9b6-44fc-9f0f-afaf6ca5b9b0",
   "metadata": {},
   "source": [
    "Isso é extremamente importante para nos ajudar quando temos um ndarray muito grande, e precisamos relembrar o quão grande. Além disso, esses atributos também nos ajudam quando queremos criar funções genéricas que atuem em ndarrays.\n",
    "\n",
    "A partir do formato do array, podemos obter também o número de elementos. Porém, objetos ndarray já têm o atributo `size` para facilitar."
   ]
  },
  {
   "cell_type": "code",
   "execution_count": 106,
   "id": "2119dcef-1f66-462f-a948-f8e2936fe4ae",
   "metadata": {
    "tags": []
   },
   "outputs": [
    {
     "name": "stdout",
     "output_type": "stream",
     "text": [
      "3\n",
      "4\n",
      "8\n"
     ]
    }
   ],
   "source": [
    "print(vetor.size)\n",
    "print(matriz.size)\n",
    "print(tensor.size)"
   ]
  },
  {
   "cell_type": "code",
   "execution_count": 107,
   "id": "7613362c",
   "metadata": {},
   "outputs": [
    {
     "data": {
      "text/plain": [
       "16"
      ]
     },
     "execution_count": 107,
     "metadata": {},
     "output_type": "execute_result"
    }
   ],
   "source": [
    "before = np.array([[1,2,3,4,5,6,7,8], [1,2,3,4,5,6,7,8]])\n",
    "\n",
    "before.reshape((4, 4))"
   ]
  },
  {
   "cell_type": "markdown",
   "id": "7e4740c6-624c-473c-a32b-f69dd6d832ee",
   "metadata": {},
   "source": [
    "Muitas vezes queremos mudar o formato de um array. Por exemplo, podemos querer transformar um vetor de 4 elementos em uma matriz 2x2. Para isso, utilizamos a função `reshape`."
   ]
  },
  {
   "cell_type": "code",
   "execution_count": 108,
   "id": "d9470ffc-0892-41b1-bd04-88663fe40af4",
   "metadata": {
    "tags": []
   },
   "outputs": [
    {
     "name": "stdout",
     "output_type": "stream",
     "text": [
      "(2, 4)\n",
      "8\n"
     ]
    }
   ],
   "source": [
    "before = np.array([[1,2,3,4],[5,6,7,8]])\n",
    "print(before.shape)\n",
    "print(before.size)"
   ]
  },
  {
   "cell_type": "code",
   "execution_count": 109,
   "id": "de789ecf-5ea1-481b-98e3-0eb511991424",
   "metadata": {
    "tags": []
   },
   "outputs": [
    {
     "data": {
      "text/plain": [
       "array([1, 2, 3, 4, 5, 6, 7, 8])"
      ]
     },
     "execution_count": 109,
     "metadata": {},
     "output_type": "execute_result"
    }
   ],
   "source": [
    "after = before.reshape((8)) # o novo array deve ter a mesma quantidade de elementos\n",
    "after"
   ]
  },
  {
   "cell_type": "code",
   "execution_count": 110,
   "id": "7d9b0c81-8db1-4e41-a5ae-acc8f2e71e39",
   "metadata": {
    "tags": []
   },
   "outputs": [
    {
     "data": {
      "text/plain": [
       "array([[[1, 2, 3, 4, 5, 6, 7, 8]]])"
      ]
     },
     "execution_count": 110,
     "metadata": {},
     "output_type": "execute_result"
    }
   ],
   "source": [
    "after = before.reshape((1, 1, 8)) \n",
    "after"
   ]
  },
  {
   "cell_type": "code",
   "execution_count": 117,
   "id": "2a9fb43f-1e7f-4a06-aa41-41dcb66bbb1b",
   "metadata": {
    "tags": []
   },
   "outputs": [
    {
     "data": {
      "text/plain": [
       "array([[[1, 2],\n",
       "        [3, 4]],\n",
       "\n",
       "       [[5, 6],\n",
       "        [7, 8]]])"
      ]
     },
     "execution_count": 117,
     "metadata": {},
     "output_type": "execute_result"
    }
   ],
   "source": [
    "after = before.reshape(2, 2, 2)\n",
    "after"
   ]
  },
  {
   "cell_type": "markdown",
   "id": "d1e71a69-efe5-4636-8df4-41ce10b4c469",
   "metadata": {},
   "source": [
    "Outra forma de obter arrays com dimensões ou formatos diferentes é juntar e empilhar arrays. Podemos tanto empilhar um array em cima do outro (um \"empilhamento vertical\") usando a função `np.vstack`, quanto tentar colocar um ao lado do outro (um \"empilhamento horizontal\") usando a função `np.hstack`."
   ]
  },
  {
   "cell_type": "code",
   "execution_count": 120,
   "id": "e26482e2",
   "metadata": {},
   "outputs": [
    {
     "name": "stdout",
     "output_type": "stream",
     "text": [
      "1\n",
      "(4,)\n"
     ]
    }
   ],
   "source": [
    "v1 = np.array([1,2,3,4])\n",
    "v2 = np.array([5,6,7,8])\n",
    "\n",
    "print(v1.ndim)\n",
    "print(v2.shape)"
   ]
  },
  {
   "cell_type": "code",
   "execution_count": 128,
   "id": "40e5f9a8-fbee-4414-b462-859da18afa48",
   "metadata": {
    "tags": []
   },
   "outputs": [
    {
     "ename": "ValueError",
     "evalue": "all the input array dimensions except for the concatenation axis must match exactly, but along dimension 1, the array at index 0 has size 5 and the array at index 1 has size 4",
     "output_type": "error",
     "traceback": [
      "\u001b[1;31m---------------------------------------------------------------------------\u001b[0m",
      "\u001b[1;31mValueError\u001b[0m                                Traceback (most recent call last)",
      "\u001b[1;32mc:\\Users\\jcham\\OneDrive\\Documentos\\Ada\\Skill Up\\Tecnicas de Programação I\\Aula 01\\Aula 01 - Numpy.ipynb Cell 45\u001b[0m line \u001b[0;36m4\n\u001b[0;32m      <a href='vscode-notebook-cell:/c%3A/Users/jcham/OneDrive/Documentos/Ada/Skill%20Up/Tecnicas%20de%20Programa%C3%A7%C3%A3o%20I/Aula%2001/Aula%2001%20-%20Numpy.ipynb#X44sZmlsZQ%3D%3D?line=0'>1</a>\u001b[0m v1 \u001b[39m=\u001b[39m np\u001b[39m.\u001b[39marray([\u001b[39m1\u001b[39m,\u001b[39m2\u001b[39m,\u001b[39m3\u001b[39m,\u001b[39m4\u001b[39m,\u001b[39m5\u001b[39m])\n\u001b[0;32m      <a href='vscode-notebook-cell:/c%3A/Users/jcham/OneDrive/Documentos/Ada/Skill%20Up/Tecnicas%20de%20Programa%C3%A7%C3%A3o%20I/Aula%2001/Aula%2001%20-%20Numpy.ipynb#X44sZmlsZQ%3D%3D?line=1'>2</a>\u001b[0m v2 \u001b[39m=\u001b[39m np\u001b[39m.\u001b[39marray([\u001b[39m5\u001b[39m,\u001b[39m6\u001b[39m,\u001b[39m7\u001b[39m,\u001b[39m8\u001b[39m])\n\u001b[1;32m----> <a href='vscode-notebook-cell:/c%3A/Users/jcham/OneDrive/Documentos/Ada/Skill%20Up/Tecnicas%20de%20Programa%C3%A7%C3%A3o%20I/Aula%2001/Aula%2001%20-%20Numpy.ipynb#X44sZmlsZQ%3D%3D?line=3'>4</a>\u001b[0m np\u001b[39m.\u001b[39;49mvstack([v1, v2])\n",
      "File \u001b[1;32m<__array_function__ internals>:200\u001b[0m, in \u001b[0;36mvstack\u001b[1;34m(*args, **kwargs)\u001b[0m\n",
      "File \u001b[1;32mc:\\Users\\jcham\\AppData\\Local\\Programs\\Python\\Python311\\Lib\\site-packages\\numpy\\core\\shape_base.py:296\u001b[0m, in \u001b[0;36mvstack\u001b[1;34m(tup, dtype, casting)\u001b[0m\n\u001b[0;32m    294\u001b[0m \u001b[39mif\u001b[39;00m \u001b[39mnot\u001b[39;00m \u001b[39misinstance\u001b[39m(arrs, \u001b[39mlist\u001b[39m):\n\u001b[0;32m    295\u001b[0m     arrs \u001b[39m=\u001b[39m [arrs]\n\u001b[1;32m--> 296\u001b[0m \u001b[39mreturn\u001b[39;00m _nx\u001b[39m.\u001b[39;49mconcatenate(arrs, \u001b[39m0\u001b[39;49m, dtype\u001b[39m=\u001b[39;49mdtype, casting\u001b[39m=\u001b[39;49mcasting)\n",
      "File \u001b[1;32m<__array_function__ internals>:200\u001b[0m, in \u001b[0;36mconcatenate\u001b[1;34m(*args, **kwargs)\u001b[0m\n",
      "\u001b[1;31mValueError\u001b[0m: all the input array dimensions except for the concatenation axis must match exactly, but along dimension 1, the array at index 0 has size 5 and the array at index 1 has size 4"
     ]
    }
   ],
   "source": [
    "v1 = np.array([1,2,3,4,5])\n",
    "v2 = np.array([5,6,7,8])\n",
    "\n",
    "np.vstack([v1, v2])"
   ]
  },
  {
   "cell_type": "code",
   "execution_count": null,
   "id": "922294c3",
   "metadata": {},
   "outputs": [],
   "source": [
    "usuarios_admin [nome, sobrenome, idade]\n",
    "\n",
    "usuarios_desen [nome, sobrenome, idade]\n",
    "\n",
    "usuarios_teste [nome, sobrenome, idade]\n",
    "\n",
    "usuarios [nome, sobrenome, idade]"
   ]
  },
  {
   "cell_type": "code",
   "execution_count": null,
   "id": "999b5cc9",
   "metadata": {},
   "outputs": [],
   "source": [
    "usuario1_dados_financeiros [cartao, limite, bandeira]\n",
    "\n",
    "usuario1_dados_pessoais [nome, sobrenome]\n",
    "\n",
    "usuario1[cartao, limite, bandeira, nome, sobrenome]"
   ]
  },
  {
   "cell_type": "code",
   "execution_count": 124,
   "id": "e66bb8f3-8286-428a-a2ab-1de53d303cac",
   "metadata": {
    "tags": []
   },
   "outputs": [
    {
     "data": {
      "text/plain": [
       "array([[1, 2, 3, 4],\n",
       "       [5, 6, 7, 8],\n",
       "       [5, 6, 7, 8],\n",
       "       [5, 6, 7, 8]])"
      ]
     },
     "execution_count": 124,
     "metadata": {},
     "output_type": "execute_result"
    }
   ],
   "source": [
    "np.vstack([v1, v2, v2, v2])"
   ]
  },
  {
   "cell_type": "code",
   "execution_count": 130,
   "id": "05090d56",
   "metadata": {},
   "outputs": [
    {
     "name": "stdout",
     "output_type": "stream",
     "text": [
      "[[1 2 3 4]\n",
      " [5 6 7 8]]\n",
      "[5 6 7 8]\n"
     ]
    }
   ],
   "source": [
    "v1 = np.array([[1,2,3,4], [5,6,7,8]])\n",
    "v2 = np.array([5,6,7,8])\n",
    "\n",
    "print(v1)\n",
    "print(v2)"
   ]
  },
  {
   "cell_type": "code",
   "execution_count": 133,
   "id": "46bbf578",
   "metadata": {},
   "outputs": [
    {
     "ename": "ValueError",
     "evalue": "all the input arrays must have same number of dimensions, but the array at index 0 has 2 dimension(s) and the array at index 1 has 1 dimension(s)",
     "output_type": "error",
     "traceback": [
      "\u001b[1;31m---------------------------------------------------------------------------\u001b[0m",
      "\u001b[1;31mValueError\u001b[0m                                Traceback (most recent call last)",
      "\u001b[1;32mc:\\Users\\jcham\\OneDrive\\Documentos\\Ada\\Skill Up\\Tecnicas de Programação I\\Aula 01\\Aula 01 - Numpy.ipynb Cell 49\u001b[0m line \u001b[0;36m1\n\u001b[1;32m----> <a href='vscode-notebook-cell:/c%3A/Users/jcham/OneDrive/Documentos/Ada/Skill%20Up/Tecnicas%20de%20Programa%C3%A7%C3%A3o%20I/Aula%2001/Aula%2001%20-%20Numpy.ipynb#Y516sZmlsZQ%3D%3D?line=0'>1</a>\u001b[0m np\u001b[39m.\u001b[39;49mhstack([v1, v2])\n",
      "File \u001b[1;32m<__array_function__ internals>:200\u001b[0m, in \u001b[0;36mhstack\u001b[1;34m(*args, **kwargs)\u001b[0m\n",
      "File \u001b[1;32mc:\\Users\\jcham\\AppData\\Local\\Programs\\Python\\Python311\\Lib\\site-packages\\numpy\\core\\shape_base.py:370\u001b[0m, in \u001b[0;36mhstack\u001b[1;34m(tup, dtype, casting)\u001b[0m\n\u001b[0;32m    368\u001b[0m     \u001b[39mreturn\u001b[39;00m _nx\u001b[39m.\u001b[39mconcatenate(arrs, \u001b[39m0\u001b[39m, dtype\u001b[39m=\u001b[39mdtype, casting\u001b[39m=\u001b[39mcasting)\n\u001b[0;32m    369\u001b[0m \u001b[39melse\u001b[39;00m:\n\u001b[1;32m--> 370\u001b[0m     \u001b[39mreturn\u001b[39;00m _nx\u001b[39m.\u001b[39;49mconcatenate(arrs, \u001b[39m1\u001b[39;49m, dtype\u001b[39m=\u001b[39;49mdtype, casting\u001b[39m=\u001b[39;49mcasting)\n",
      "File \u001b[1;32m<__array_function__ internals>:200\u001b[0m, in \u001b[0;36mconcatenate\u001b[1;34m(*args, **kwargs)\u001b[0m\n",
      "\u001b[1;31mValueError\u001b[0m: all the input arrays must have same number of dimensions, but the array at index 0 has 2 dimension(s) and the array at index 1 has 1 dimension(s)"
     ]
    }
   ],
   "source": [
    "np.hstack([v1, v2])"
   ]
  },
  {
   "cell_type": "code",
   "execution_count": null,
   "id": "ca722299-f975-4b78-9b6d-3e81e548e0c7",
   "metadata": {
    "tags": []
   },
   "outputs": [],
   "source": [
    "h1 = np.array([[1, 1, 1, 1], [1, 1, 1, 1]])\n",
    "\n",
    "h2 = np.zeros((2,2))\n",
    "\n",
    "print(h1.shape)\n",
    "print(h2.shape)\n",
    "\n",
    "\n",
    "np.hstack((h1, h2))"
   ]
  },
  {
   "cell_type": "markdown",
   "id": "aba0e2de-330d-46fa-949e-1e85776d3cb1",
   "metadata": {},
   "source": [
    "É comum falarmos de cada dimensão de um ndarray como um \"eixo\". Assim, se um ndarray tem 3 dimensões, nós podemos falar da \"1ª dimensão do array\" (o eixo 0 do array), da \"2ª dimensão do array\" (o eixo 1 do array) e da \"3ª dimensão do array\" (eixo 2 do array). Assim, um ndarray com formato `(3, 3, 2)` seria uma lista ao longo do seu primeiro eixo (eixo 0). Essa lista seria composta por 3 matrizes de tamanho 3 x 2. De forma totalmente equivalente, a gente poderia pensar que ele é uma lista com 2 matrizes 3 x 3 ao longo do seu terceiro eixo (eixo 2). "
   ]
  },
  {
   "cell_type": "code",
   "execution_count": 136,
   "id": "1f537880",
   "metadata": {},
   "outputs": [
    {
     "data": {
      "text/plain": [
       "[0, 1, 2, 3, 4, 5, 6, 7, 8, 9, 10, 11, 12, 13, 14, 15, 16, 17]"
      ]
     },
     "execution_count": 136,
     "metadata": {},
     "output_type": "execute_result"
    }
   ],
   "source": [
    "list(range(18))"
   ]
  },
  {
   "cell_type": "code",
   "execution_count": 141,
   "id": "65f919da-0d76-463a-b00e-432c378be04c",
   "metadata": {
    "tags": []
   },
   "outputs": [
    {
     "data": {
      "text/plain": [
       "array([[[ 0,  1,  2],\n",
       "        [ 3,  4,  5],\n",
       "        [ 6,  7,  8]],\n",
       "\n",
       "       [[ 9, 10, 11],\n",
       "        [12, 13, 14],\n",
       "        [15, 16, 17]]])"
      ]
     },
     "execution_count": 141,
     "metadata": {},
     "output_type": "execute_result"
    }
   ],
   "source": [
    "a = np.array(range(18))  \n",
    "b = a.reshape((2, 3, 3))\n",
    "\n",
    "b\n"
   ]
  },
  {
   "cell_type": "markdown",
   "id": "090ee801-b660-4673-aa86-6bfe8ab20374",
   "metadata": {},
   "source": [
    "A variável `b` vai ser um \"cubo\" de valores, invés de uma tabela. Assim, o que muda é só qual eixo a gente está olhando.\n",
    "\n",
    "![NumPy_ndarray](https://s3-sa-east-1.amazonaws.com/lcpi/1e527c6a-ea64-46e3-bd31-ffba06749000.png \"ndarrays\"){width=\"600\" height=\"450\"}\n",
    "\n",
    "(**Fonte:** Imagem original Lets Code)\n",
    "\n",
    "#### Tipos de dados e tamanho em memória\n",
    "\n",
    "Um array do NumPy tem a propriedade `dtype`, que nos dá o tipo dos seus elementos mais básicos."
   ]
  },
  {
   "cell_type": "code",
   "execution_count": 142,
   "id": "c5191273",
   "metadata": {},
   "outputs": [
    {
     "data": {
      "text/plain": [
       "[12, 13.6, 'Jorge', True]"
      ]
     },
     "execution_count": 142,
     "metadata": {},
     "output_type": "execute_result"
    }
   ],
   "source": [
    "lista = [12, 13.6, 'Jorge', True]\n",
    "\n",
    "lista"
   ]
  },
  {
   "cell_type": "code",
   "execution_count": 151,
   "id": "3aaf74a7-f2d7-4f5a-abe2-af88e8ed635a",
   "metadata": {
    "tags": []
   },
   "outputs": [
    {
     "data": {
      "text/plain": [
       "dtype('int32')"
      ]
     },
     "execution_count": 151,
     "metadata": {},
     "output_type": "execute_result"
    }
   ],
   "source": [
    "import numpy as np\n",
    "\n",
    "vetor = np.array([1, 2, 3, 4, 5, 6, 7])\n",
    "\n",
    "vetor.dtype"
   ]
  },
  {
   "cell_type": "markdown",
   "id": "74001613-a94f-4adf-98a0-a0bc27e30263",
   "metadata": {},
   "source": [
    "Quando nós construímos o ndarray, se não passarmos explicitamente qual é o `dtype`, ele infere a partir dos valores que passamos."
   ]
  },
  {
   "cell_type": "code",
   "execution_count": 154,
   "id": "9f594b0b-34a9-4496-a602-66b924f2ea30",
   "metadata": {
    "tags": []
   },
   "outputs": [
    {
     "data": {
      "text/plain": [
       "dtype('int8')"
      ]
     },
     "execution_count": 154,
     "metadata": {},
     "output_type": "execute_result"
    }
   ],
   "source": [
    "vetor = np.array([1.0, 2.0, 3.0, 4.0, 5.0, 6.0, 7.0], dtype='int64')\n",
    "vetor.dtype"
   ]
  },
  {
   "cell_type": "markdown",
   "id": "a822c601-c2df-4b33-b0c3-03d91a864e25",
   "metadata": {},
   "source": [
    "Para passar esse parâmetro explicitamente, basta utilizar um segundo argumento na função `np.array`."
   ]
  },
  {
   "cell_type": "code",
   "execution_count": 147,
   "id": "837496d5-5ca0-4b3c-87b0-bd3d180acd4d",
   "metadata": {
    "tags": []
   },
   "outputs": [
    {
     "data": {
      "text/plain": [
       "dtype('int32')"
      ]
     },
     "execution_count": 147,
     "metadata": {},
     "output_type": "execute_result"
    }
   ],
   "source": [
    "vetor = np.array([1.0, 2.0, 3.0, 4.0, 5.0, 6.0, 7.8], dtype=np.int32)\n",
    "vetor.dtype"
   ]
  },
  {
   "cell_type": "code",
   "execution_count": 148,
   "id": "d389764c",
   "metadata": {},
   "outputs": [
    {
     "data": {
      "text/plain": [
       "array([1, 2, 3, 4, 5, 6, 7])"
      ]
     },
     "execution_count": 148,
     "metadata": {},
     "output_type": "execute_result"
    }
   ],
   "source": [
    "vetor"
   ]
  },
  {
   "cell_type": "markdown",
   "id": "748a36f7-edba-4282-817e-77faaef6e874",
   "metadata": {},
   "source": [
    "Para esses arrays, nós dizemos que a consistência dos dados é **forte**. Isso significa que, se criarmos um vetor de números inteiros, por exemplo, então todos os elementos que colocarmos no nosso vetor **vai ser inteiro**.\n",
    "\n",
    "Se tentarmos colocar um valor numérico de ponto flutuante, o NumPy vai automaticamente converter para um valor inteiro."
   ]
  },
  {
   "cell_type": "code",
   "execution_count": null,
   "id": "5a77c9a4-9269-4693-aaec-0df8825b2064",
   "metadata": {
    "tags": []
   },
   "outputs": [],
   "source": [
    "a = np.array([1, 2, 3])\n",
    "a[0] = 10\n",
    "a"
   ]
  },
  {
   "cell_type": "code",
   "execution_count": null,
   "id": "0c62e3be-9b7e-48b4-baf0-ed4880c65db9",
   "metadata": {
    "tags": []
   },
   "outputs": [],
   "source": [
    "a[0] = 1.23\n",
    "a"
   ]
  },
  {
   "cell_type": "markdown",
   "id": "6fa60570-8511-4ee3-9ef9-3320cde6d6fd",
   "metadata": {},
   "source": [
    "O valor padrão de *dtype* depende do Python instalado. Se o Python instalado for de 64 bits, o padrão será tipos `int` ou `float` de 64 bits de memória (`int64` ou `float64`). Caso seu Python seja 32 bits, o padrão será `int32` e `float32`.\n",
    "\n",
    "Essa diferença afeta a precisão dos cálculos. Quanto mais espaço em memória utilizado (maior o número de bits), maior a precisão.\n",
    "\n",
    "Como o NumPy é feito para cálculos numéricos, ele precisa de grande controle sobre essa precisão. De fato, ele precisa de mais controle sobre isso do que o Python básico.\n",
    "\n",
    "Devido a isso, os tipos de dados numéricos básicos do NumPy parecem com os do Python, mas em geral têm um número à direita. Esse número representa o seu nível de precisão computacional.\n",
    "\n",
    "Alguns exemplos de tipos de dados do NumPy (e provavelmente os mais comuns) são:\n",
    "\n",
    "* `np.int32`\n",
    "* `np.int64`\n",
    "* `np.float32`\n",
    "* `np.float64`\n",
    "\n",
    "Como exemplo, podemos criar uma outra array, `a16`, com o tipo inteiro de 16 bits."
   ]
  },
  {
   "cell_type": "code",
   "execution_count": 1,
   "metadata": {},
   "outputs": [
    {
     "data": {
      "text/plain": [
       "[[1, 2, 3], [4, 5, 6]]"
      ]
     },
     "execution_count": 1,
     "metadata": {},
     "output_type": "execute_result"
    }
   ],
   "source": [
    "[[1, 2, 3], [4, 5, 6]]"
   ]
  },
  {
   "cell_type": "code",
   "execution_count": 21,
   "metadata": {},
   "outputs": [
    {
     "data": {
      "text/plain": [
       "256"
      ]
     },
     "execution_count": 21,
     "metadata": {},
     "output_type": "execute_result"
    }
   ],
   "source": [
    "2 ** 8"
   ]
  },
  {
   "cell_type": "code",
   "execution_count": 31,
   "id": "8d626f71-8446-49af-a7b0-134451ec4ebf",
   "metadata": {
    "tags": []
   },
   "outputs": [
    {
     "data": {
      "text/plain": [
       "array([1, 2, 3])"
      ]
     },
     "execution_count": 31,
     "metadata": {},
     "output_type": "execute_result"
    }
   ],
   "source": [
    "a8 = np.array([1, 2, 3], dtype=\"int32\") # valores entre [-2**7+1 e 2**15 - 1] [-127, 127]\n",
    "# np.int16 = \"int16\"\n",
    "a8"
   ]
  },
  {
   "cell_type": "code",
   "execution_count": 27,
   "metadata": {},
   "outputs": [
    {
     "data": {
      "text/plain": [
       "1"
      ]
     },
     "execution_count": 27,
     "metadata": {},
     "output_type": "execute_result"
    }
   ],
   "source": [
    "a8.ndim  "
   ]
  },
  {
   "cell_type": "code",
   "execution_count": 16,
   "metadata": {},
   "outputs": [
    {
     "name": "stderr",
     "output_type": "stream",
     "text": [
      "C:\\Users\\jcham\\AppData\\Local\\Temp\\ipykernel_8764\\938712127.py:1: DeprecationWarning: NumPy will stop allowing conversion of out-of-bound Python integers to integer arrays.  The conversion of 130 to int8 will fail in the future.\n",
      "For the old behavior, usually:\n",
      "    np.array(value).astype(dtype)`\n",
      "will give the desired result (the cast overflows).\n",
      "  a8[0] = 130\n"
     ]
    },
    {
     "data": {
      "text/plain": [
       "array([-126,    2,    3], dtype=int8)"
      ]
     },
     "execution_count": 16,
     "metadata": {},
     "output_type": "execute_result"
    }
   ],
   "source": [
    "a8[0] = 130 \n",
    "\n",
    "a8"
   ]
  },
  {
   "cell_type": "markdown",
   "id": "d1b88cc1-2cee-4b6a-8f9d-4d4b3f2af2c7",
   "metadata": {},
   "source": [
    "Note que por ser um tipo diferente do padrão, ele ressalta ao mostrar o array na tela.\n",
    "\n",
    "Para descobrir o espaço que cada elemento ocupa na memória, individualmente, podemos acessar o atributo `itemsize`."
   ]
  },
  {
   "cell_type": "code",
   "execution_count": 28,
   "id": "a0642d0f-9464-40d8-b484-18cd21194905",
   "metadata": {
    "tags": []
   },
   "outputs": [
    {
     "data": {
      "text/plain": [
       "2"
      ]
     },
     "execution_count": 28,
     "metadata": {},
     "output_type": "execute_result"
    }
   ],
   "source": [
    "a8.itemsize"
   ]
  },
  {
   "cell_type": "code",
   "execution_count": 29,
   "metadata": {},
   "outputs": [
    {
     "data": {
      "text/plain": [
       "3"
      ]
     },
     "execution_count": 29,
     "metadata": {},
     "output_type": "execute_result"
    }
   ],
   "source": [
    "a8.size "
   ]
  },
  {
   "cell_type": "code",
   "execution_count": 32,
   "metadata": {},
   "outputs": [
    {
     "data": {
      "text/plain": [
       "12"
      ]
     },
     "execution_count": 32,
     "metadata": {},
     "output_type": "execute_result"
    }
   ],
   "source": [
    "a8.itemsize * a8.size"
   ]
  },
  {
   "cell_type": "markdown",
   "id": "09f82f9b-8012-4ed2-a943-ff8a9cd78d6a",
   "metadata": {},
   "source": [
    "Ele retornou 2! Mas a gente não falou que era um tipo inteiro de \"16 bits\"?\n",
    "\n",
    "O NumPy nos mostra o espaço em memória em bytes, e não em bits. Cada byte equivale a 8 bits. Logo, 16 bits são o mesmo que 2 bytes.\n",
    "\n",
    "$\\frac{16}{8} = 2$\n",
    "\n",
    "Já se fizermos um array padrão em um Python de 64 bits, temos um `itemsize` de 8."
   ]
  },
  {
   "cell_type": "code",
   "execution_count": null,
   "id": "43365a93-13fb-4d1e-bbae-8dd952b93a22",
   "metadata": {
    "tags": []
   },
   "outputs": [],
   "source": [
    "a = np.array([1, 2, 3])\n",
    "a.dtype"
   ]
  },
  {
   "cell_type": "code",
   "execution_count": null,
   "id": "2e8b3957-bc22-47b2-9063-1ca28fe7267a",
   "metadata": {
    "tags": []
   },
   "outputs": [],
   "source": [
    "a.itemsize"
   ]
  },
  {
   "cell_type": "markdown",
   "id": "8d87028a-4a0e-4ad4-9877-9b3a86409efd",
   "metadata": {},
   "source": [
    "Isso pois o padrão de 64 bits equivale a 8 bytes.\n",
    "$\\frac{64}{8} = 8$\n",
    "\n",
    "A quantidade de elementos multiplicado pelo tamanho de cada elemento em memória nos dará o tamanho total de bytes que o array inteiro ocupa na memória do computador."
   ]
  },
  {
   "cell_type": "code",
   "execution_count": null,
   "id": "4b790054-ad81-4ac0-9408-bd58954662fd",
   "metadata": {
    "tags": []
   },
   "outputs": [],
   "source": [
    "# quantidade de elementos total\n",
    "a.size"
   ]
  },
  {
   "cell_type": "code",
   "execution_count": null,
   "id": "64cfc1e7-ae3c-4512-939a-c66ca7e500bd",
   "metadata": {
    "tags": []
   },
   "outputs": [],
   "source": [
    "# tamanho em memória do vetor \"a\"\n",
    "a.size * a.itemsize"
   ]
  },
  {
   "cell_type": "markdown",
   "id": "706b334c-2c59-4213-9404-b5803bb02d64",
   "metadata": {},
   "source": [
    "Não precisamos, porém, ficar calculando esse valor se quisermos saber essa informação. Podemos simplesmente acessar o atributo `nbytes`, que representa o tamanho total em bytes ocupado pelo array."
   ]
  },
  {
   "cell_type": "code",
   "execution_count": null,
   "id": "3812540f-2d81-44b5-804d-306a02f25518",
   "metadata": {
    "tags": []
   },
   "outputs": [],
   "source": [
    "a.nbytes"
   ]
  },
  {
   "cell_type": "markdown",
   "id": "26213546-27d4-4ad6-846c-a26fc20ff7ee",
   "metadata": {},
   "source": [
    "**Observação**\n",
    "\n",
    "Geralmente não é necessário reduzir o número de bits a não ser que você tenha certeza que um tamanho reduzido vai atender sua necessidade e você quer ser **extremamente** eficiente.\n",
    "\n",
    "---\n",
    "\n",
    "Podemos converter os tipos de dados do array do NumPy depois da sua criação de forma manual, usando a função `astype`."
   ]
  },
  {
   "cell_type": "code",
   "execution_count": 38,
   "id": "e9c175c0-3577-4464-b37b-d07741c9c0cb",
   "metadata": {
    "tags": []
   },
   "outputs": [
    {
     "data": {
      "text/plain": [
       "dtype('float64')"
      ]
     },
     "execution_count": 38,
     "metadata": {},
     "output_type": "execute_result"
    }
   ],
   "source": [
    "a = np.array([1.0, 2.0, 3.888])\n",
    "\n",
    "a.dtype"
   ]
  },
  {
   "cell_type": "code",
   "execution_count": 42,
   "id": "c2aa68c5-39b7-4f78-858b-2b384acbdab7",
   "metadata": {
    "tags": []
   },
   "outputs": [
    {
     "data": {
      "text/plain": [
       "dtype('int32')"
      ]
     },
     "execution_count": 42,
     "metadata": {},
     "output_type": "execute_result"
    }
   ],
   "source": [
    "b = a.astype(\"int32\")\n",
    "\n",
    "b.dtype"
   ]
  },
  {
   "cell_type": "code",
   "execution_count": 43,
   "metadata": {},
   "outputs": [
    {
     "data": {
      "text/plain": [
       "array([1, 2, 3])"
      ]
     },
     "execution_count": 43,
     "metadata": {},
     "output_type": "execute_result"
    }
   ],
   "source": [
    "b"
   ]
  },
  {
   "cell_type": "code",
   "execution_count": 45,
   "id": "8f479dd4",
   "metadata": {},
   "outputs": [
    {
     "data": {
      "text/plain": [
       "dtype('float64')"
      ]
     },
     "execution_count": 45,
     "metadata": {},
     "output_type": "execute_result"
    }
   ],
   "source": [
    "a.dtype"
   ]
  },
  {
   "cell_type": "code",
   "execution_count": 56,
   "metadata": {},
   "outputs": [
    {
     "name": "stdout",
     "output_type": "stream",
     "text": [
      "2\n",
      "(2, 3)\n",
      "6\n",
      "int8\n",
      "1\n"
     ]
    }
   ],
   "source": [
    "lista =  [ [1, 2, 3] , [4, 5, 6]  ]\n",
    "\n",
    "# 2 dimensoes = matriz\n",
    "\n",
    "array = np.array(lista, dtype = \"int8\") # dtype -> definir o tipo de dado de cada elemento\n",
    "\n",
    "print(array.ndim) # numero de dimensoes\n",
    "\n",
    "print(array.shape) # tamnaho de cada dimensao\n",
    "\n",
    "print(array.size) # numero de elementos\n",
    "\n",
    "print(array.dtype) # tipo de dado de cada elemento\n",
    "\n",
    "print(array.itemsize) # tamanho de cada elemento em bytes"
   ]
  },
  {
   "cell_type": "code",
   "execution_count": 58,
   "metadata": {},
   "outputs": [
    {
     "name": "stdout",
     "output_type": "stream",
     "text": [
      "float32\n"
     ]
    },
    {
     "data": {
      "text/plain": [
       "array([[1., 2., 3.],\n",
       "       [4., 5., 6.]], dtype=float32)"
      ]
     },
     "execution_count": 58,
     "metadata": {},
     "output_type": "execute_result"
    }
   ],
   "source": [
    "array_float = array.astype(\"float32\")\n",
    "\n",
    "print(array_float.dtype)\n",
    "\n",
    "array_float"
   ]
  },
  {
   "cell_type": "markdown",
   "id": "8ace3603",
   "metadata": {},
   "source": [
    "### 2.3. Acessando e modificando elementos (Indexing & Slicing)  <a name=\"23indexing\"></a>\n",
    "\n",
    "Vamos montar duas matrizes, uma usando Python e outra usando NumPy, para podermos comparar como nós acessamos os elementos de cada uma.\n",
    "```python"
   ]
  },
  {
   "cell_type": "code",
   "execution_count": 111,
   "id": "d6b0366b",
   "metadata": {},
   "outputs": [
    {
     "name": "stdout",
     "output_type": "stream",
     "text": [
      "[[ 1  2  3  4  5  6  7]\n",
      " [ 8  9 10 11 12 13 14]]\n"
     ]
    }
   ],
   "source": [
    "np_mat = np.array([[1, 2,  3,  4,  5,  6,  7], \n",
    "              [8, 9, 10, 11, 12, 13, 14]])\n",
    "print(np_mat)"
   ]
  },
  {
   "cell_type": "code",
   "execution_count": 60,
   "id": "bdfb7ce6",
   "metadata": {},
   "outputs": [
    {
     "name": "stdout",
     "output_type": "stream",
     "text": [
      "[[1, 2, 3, 4, 5, 6, 7], [8, 9, 10, 11, 12, 13, 14]]\n"
     ]
    }
   ],
   "source": [
    "py_mat = [[1, 2,  3,  4,  5,  6,  7], \n",
    "          [8, 9, 10, 11, 12, 13, 14]]\n",
    "    \n",
    "print(py_mat)"
   ]
  },
  {
   "cell_type": "markdown",
   "id": "204b625e",
   "metadata": {},
   "source": [
    "Podemos acessar um elemento específico de forma similar a uma lista natural do Python, utilizando a sintaxe de colchetes. Porém, no NumPy, quando temos 2 ou mais dimensões, nós passamos a posição que queremos buscar atráves de números separados por vírgulas.\n",
    "\n",
    "Se quisermos então pegar o número 13 nos arrays acima, que está na posição \\[1,5\\] (linha 1, coluna 5, lembrando que o Python começa os índices sempre pelo 0), no Python teríamos que usar a sintaxe abaixo."
   ]
  },
  {
   "cell_type": "code",
   "execution_count": 67,
   "id": "93692f3c",
   "metadata": {},
   "outputs": [
    {
     "data": {
      "text/plain": [
       "13"
      ]
     },
     "execution_count": 67,
     "metadata": {},
     "output_type": "execute_result"
    }
   ],
   "source": [
    "# primeiro elemento : indice -> 0\n",
    "\n",
    "# [] -> colchete\n",
    "# {} -> chave\n",
    "\n",
    "py_mat[1][-2]"
   ]
  },
  {
   "cell_type": "markdown",
   "id": "6607878f",
   "metadata": {},
   "source": [
    "Já para um ndarray com duas dimensões (2D), temos uma sintaxe um pouco mais simples."
   ]
  },
  {
   "cell_type": "code",
   "execution_count": 63,
   "id": "d1c5b18f",
   "metadata": {},
   "outputs": [
    {
     "data": {
      "text/plain": [
       "13"
      ]
     },
     "execution_count": 63,
     "metadata": {},
     "output_type": "execute_result"
    }
   ],
   "source": [
    "np_mat[1, 5]"
   ]
  },
  {
   "cell_type": "markdown",
   "id": "9d7ae6ce",
   "metadata": {},
   "source": [
    "Além disso, todas as regras do Python são aplicáveis no NumPy. Usar números negativos, por exemplo, funciona como uma indexação de trás para frente."
   ]
  },
  {
   "cell_type": "code",
   "execution_count": 70,
   "id": "519cabf4",
   "metadata": {},
   "outputs": [
    {
     "data": {
      "text/plain": [
       "12"
      ]
     },
     "execution_count": 70,
     "metadata": {},
     "output_type": "execute_result"
    }
   ],
   "source": [
    "np_mat[1, -3]"
   ]
  },
  {
   "cell_type": "code",
   "execution_count": 71,
   "id": "ba3a4013",
   "metadata": {},
   "outputs": [
    {
     "data": {
      "text/plain": [
       "7"
      ]
     },
     "execution_count": 71,
     "metadata": {},
     "output_type": "execute_result"
    }
   ],
   "source": [
    "notas = np.array([1, 2,  3,  4,  5,  6,  7])\n",
    "\n",
    "notas[-1]"
   ]
  },
  {
   "cell_type": "code",
   "execution_count": 72,
   "metadata": {},
   "outputs": [
    {
     "data": {
      "text/plain": [
       "7"
      ]
     },
     "execution_count": 72,
     "metadata": {},
     "output_type": "execute_result"
    }
   ],
   "source": [
    "notas = np.array([1, 2,  3,  4,  5,  6,  7])\n",
    "\n",
    "notas[-1]"
   ]
  },
  {
   "cell_type": "markdown",
   "id": "7eaced15",
   "metadata": {},
   "source": [
    "Para pegar uma linha inteira, podemos utilizar a sintaxe de `:` na coluna. Essa sintaxe pode ser lida como \"todos os elementos deste eixo\". Podemos ler então a sintaxe abaixo como \"linha zero, todas as colunas\"."
   ]
  },
  {
   "cell_type": "code",
   "execution_count": 73,
   "metadata": {},
   "outputs": [
    {
     "data": {
      "text/plain": [
       "array([[ 1,  2,  3,  4,  5,  6,  7],\n",
       "       [ 8,  9, 10, 11, 12, 13, 14]])"
      ]
     },
     "execution_count": 73,
     "metadata": {},
     "output_type": "execute_result"
    }
   ],
   "source": [
    "np_mat"
   ]
  },
  {
   "cell_type": "code",
   "execution_count": 75,
   "id": "b412b3aa",
   "metadata": {},
   "outputs": [
    {
     "data": {
      "text/plain": [
       "array([ 8,  9, 10, 11, 12, 13, 14])"
      ]
     },
     "execution_count": 75,
     "metadata": {},
     "output_type": "execute_result"
    }
   ],
   "source": [
    "np_mat[1, :]"
   ]
  },
  {
   "cell_type": "markdown",
   "id": "c3b246ac",
   "metadata": {},
   "source": [
    "Embora também poderíamos fazer de forma mais fácil essa indexação em específico."
   ]
  },
  {
   "cell_type": "code",
   "execution_count": null,
   "id": "f2cd9b90",
   "metadata": {},
   "outputs": [],
   "source": [
    "np_mat[0]"
   ]
  },
  {
   "cell_type": "markdown",
   "id": "caeab462",
   "metadata": {},
   "source": [
    "Porém, para pegar uma coluna, não tem jeito, precisamos usar `:`. A sintaxe abaixo pode ser lida como \"todas as linhas, coluna 2\"."
   ]
  },
  {
   "cell_type": "code",
   "execution_count": 76,
   "metadata": {},
   "outputs": [
    {
     "data": {
      "text/plain": [
       "array([[ 1,  2,  3,  4,  5,  6,  7],\n",
       "       [ 8,  9, 10, 11, 12, 13, 14]])"
      ]
     },
     "execution_count": 76,
     "metadata": {},
     "output_type": "execute_result"
    }
   ],
   "source": [
    "np_mat"
   ]
  },
  {
   "cell_type": "code",
   "execution_count": 77,
   "id": "c6fa1d8a",
   "metadata": {},
   "outputs": [
    {
     "data": {
      "text/plain": [
       "array([ 3, 10])"
      ]
     },
     "execution_count": 77,
     "metadata": {},
     "output_type": "execute_result"
    }
   ],
   "source": [
    "np_mat[:, 2]"
   ]
  },
  {
   "cell_type": "markdown",
   "id": "2eaa4e2c",
   "metadata": {},
   "source": [
    "O operador `:` é também conhecido como slicing (ou \"fatiamento\", em português), e pode ser usado para pegar intervalos de indices. Para isso, ele precisa de três parâmetros:\n",
    "- start, o índice inicial do intervalo\n",
    "- end, o índice final do intervalo\n",
    "- step, quantos índices nós pulamos em cada passo dado para ir do *start* até o *end*.\n",
    "\n",
    "Isso é feito no formato `[start:end:step]`. Neste caso, `step` é o tamanho do passo que vamos dar. Basicamente, ele diz quantos elementos devemos pular de cada vez. Como exemplo, podemos pegar do elemento 1 ao 6 pulando de 2 em 2 na linha 0."
   ]
  },
  {
   "cell_type": "code",
   "execution_count": 80,
   "metadata": {},
   "outputs": [
    {
     "data": {
      "text/plain": [
       "array([[ 1,  2,  3,  4,  5,  6,  7],\n",
       "       [ 8,  9, 10, 11, 12, 13, 14]])"
      ]
     },
     "execution_count": 80,
     "metadata": {},
     "output_type": "execute_result"
    }
   ],
   "source": [
    "np_mat"
   ]
  },
  {
   "cell_type": "code",
   "execution_count": null,
   "metadata": {},
   "outputs": [],
   "source": [
    "# "
   ]
  },
  {
   "cell_type": "code",
   "execution_count": 114,
   "id": "324bf2a5",
   "metadata": {},
   "outputs": [
    {
     "data": {
      "text/plain": [
       "array([1, 3])"
      ]
     },
     "execution_count": 114,
     "metadata": {},
     "output_type": "execute_result"
    }
   ],
   "source": [
    "np_mat[0 , 0 : 3 : 2]"
   ]
  },
  {
   "cell_type": "markdown",
   "id": "43047a91",
   "metadata": {},
   "source": [
    "Novamente, ele também funciona com índice negativo."
   ]
  },
  {
   "cell_type": "code",
   "execution_count": 100,
   "id": "3c13739e",
   "metadata": {},
   "outputs": [
    {
     "data": {
      "text/plain": [
       "array([2, 3, 4, 5, 6])"
      ]
     },
     "execution_count": 100,
     "metadata": {},
     "output_type": "execute_result"
    }
   ],
   "source": [
    "np_mat[0, 1:-1:1]"
   ]
  },
  {
   "cell_type": "code",
   "execution_count": 103,
   "id": "05add2e3",
   "metadata": {},
   "outputs": [
    {
     "data": {
      "text/plain": [
       "array([[ 2,  3,  4,  5,  6],\n",
       "       [ 9, 10, 11, 12, 13]])"
      ]
     },
     "execution_count": 103,
     "metadata": {},
     "output_type": "execute_result"
    }
   ],
   "source": [
    "np_mat[:, 1:-1]"
   ]
  },
  {
   "cell_type": "code",
   "execution_count": null,
   "id": "df55b3dd",
   "metadata": {},
   "outputs": [],
   "source": [
    "np_mat[1,5]"
   ]
  },
  {
   "cell_type": "markdown",
   "id": "34fb13ad",
   "metadata": {},
   "source": [
    "Podemos usar essas indexações para alterar os elementos do array. Basta usar o operador `=` para atribuir um novo falar ao elemento daquela posição."
   ]
  },
  {
   "cell_type": "code",
   "execution_count": 105,
   "metadata": {},
   "outputs": [
    {
     "data": {
      "text/plain": [
       "array([[ 1,  2,  3,  4,  5,  6,  7],\n",
       "       [ 8,  9, 10, 11, 12, 13, 14]])"
      ]
     },
     "execution_count": 105,
     "metadata": {},
     "output_type": "execute_result"
    }
   ],
   "source": [
    "np_mat"
   ]
  },
  {
   "cell_type": "code",
   "execution_count": 104,
   "metadata": {},
   "outputs": [
    {
     "data": {
      "text/plain": [
       "13"
      ]
     },
     "execution_count": 104,
     "metadata": {},
     "output_type": "execute_result"
    }
   ],
   "source": [
    "np_mat[1,5]"
   ]
  },
  {
   "cell_type": "code",
   "execution_count": 106,
   "id": "35b4c854",
   "metadata": {},
   "outputs": [
    {
     "name": "stdout",
     "output_type": "stream",
     "text": [
      "[[ 1  2  3  4  5  6  7]\n",
      " [ 8  9 10 11 12 20 14]]\n"
     ]
    }
   ],
   "source": [
    "np_mat[1,5] = 20\n",
    "print(np_mat)"
   ]
  },
  {
   "cell_type": "code",
   "execution_count": 107,
   "id": "d86bc8b6",
   "metadata": {},
   "outputs": [
    {
     "data": {
      "text/plain": [
       "20"
      ]
     },
     "execution_count": 107,
     "metadata": {},
     "output_type": "execute_result"
    }
   ],
   "source": [
    "np_mat[1,5]"
   ]
  },
  {
   "cell_type": "markdown",
   "id": "0ab21c9b",
   "metadata": {},
   "source": [
    "Isso vale até para colunas ou linhas inteiras."
   ]
  },
  {
   "cell_type": "code",
   "execution_count": 108,
   "metadata": {},
   "outputs": [
    {
     "data": {
      "text/plain": [
       "array([ 3, 10])"
      ]
     },
     "execution_count": 108,
     "metadata": {},
     "output_type": "execute_result"
    }
   ],
   "source": [
    "np_mat[:, 2] "
   ]
  },
  {
   "cell_type": "code",
   "execution_count": 142,
   "id": "d870ed0f",
   "metadata": {},
   "outputs": [
    {
     "name": "stdout",
     "output_type": "stream",
     "text": [
      "[[20  1  5  3  4  5  6]\n",
      " [ 7  8  5 10 11 12 13]\n",
      " [14 15  5 17 18 19 20]]\n"
     ]
    }
   ],
   "source": [
    "np_mat[:, 2] = 5\n",
    "\n",
    "print(np_mat)"
   ]
  },
  {
   "cell_type": "code",
   "execution_count": 110,
   "metadata": {},
   "outputs": [
    {
     "data": {
      "text/plain": [
       "array([[ 1,  2,  5,  4,  5,  6,  7],\n",
       "       [ 8,  9,  5, 11, 12, 20, 14]])"
      ]
     },
     "execution_count": 110,
     "metadata": {},
     "output_type": "execute_result"
    }
   ],
   "source": [
    "np_mat"
   ]
  },
  {
   "cell_type": "code",
   "execution_count": 130,
   "metadata": {},
   "outputs": [
    {
     "data": {
      "text/plain": [
       "array([[ 0,  1,  2,  3,  4,  5,  6],\n",
       "       [ 7,  8,  9, 10, 11, 12, 13],\n",
       "       [14, 15, 16, 17, 18, 19, 20]])"
      ]
     },
     "execution_count": 130,
     "metadata": {},
     "output_type": "execute_result"
    }
   ],
   "source": [
    "np_mat = np.array([[0,   1,  2,  3,  4,  5,  6], \n",
    "                   [7,   8,  9, 10, 11, 12, 13],\n",
    "                   [14, 15, 16, 17, 18, 19, 20]])\n",
    "\n",
    "#  3,  4,  5\n",
    "# 10, 11, 12\n",
    "\n",
    "#np_mat[0:2, 3:6]  # [0:-1, 3:-1]\n",
    "\n",
    "#  15, 20\n",
    "\n",
    "# np_mat[2, 1: :5] # [2, 1:7:5]\n",
    "\n",
    "np_mat[:, :]\n",
    "\n"
   ]
  },
  {
   "cell_type": "markdown",
   "id": "663b8963",
   "metadata": {},
   "source": [
    "\n",
    "Isso acontece por uma característica fundamental do array do NumPy:\n",
    "\n",
    "<b><center>Ao alterar o pedaço recortado da matriz (o \"slice\" da matriz), você altera a matriz original.</center></b>\n",
    "\n",
    "Juntando com o problema que vimos antes, de cópia de array, quando queremos copiar um slice de um array, temos que explicitamente usar o método `copy`.\n"
   ]
  },
  {
   "cell_type": "code",
   "execution_count": 156,
   "metadata": {},
   "outputs": [
    {
     "data": {
      "text/plain": [
       "[1, 2, 3]"
      ]
     },
     "execution_count": 156,
     "metadata": {},
     "output_type": "execute_result"
    }
   ],
   "source": [
    "# Lista padrao (slice gera copia)\n",
    "\n",
    "a = [1,2,3]\n",
    "\n",
    "b = a[:]\n",
    "\n",
    "b[0] = 20\n",
    "\n",
    "a"
   ]
  },
  {
   "cell_type": "code",
   "execution_count": 152,
   "metadata": {},
   "outputs": [
    {
     "data": {
      "text/plain": [
       "array([[ 0,  1,  2,  3,  4,  5,  6],\n",
       "       [20, 20, 20, 20, 20, 20, 20],\n",
       "       [14, 15, 16, 17, 18, 19, 20]])"
      ]
     },
     "execution_count": 152,
     "metadata": {},
     "output_type": "execute_result"
    }
   ],
   "source": [
    "# Array numpy (slices nao geram copias)\n",
    "\n",
    "np_mat = np.array([[0,   1,  2,  3,  4,  5,  6], \n",
    "                   [7,   8,  9, 10, 11, 12, 13],\n",
    "                   [14, 15, 16, 17, 18, 19, 20]])\n",
    "\n",
    "b = np_mat[:, :].copy()\n",
    "\n",
    "b[1, :] = 20\n",
    "\n",
    "b"
   ]
  },
  {
   "cell_type": "code",
   "execution_count": 147,
   "metadata": {},
   "outputs": [
    {
     "data": {
      "text/plain": [
       "10"
      ]
     },
     "execution_count": 147,
     "metadata": {},
     "output_type": "execute_result"
    }
   ],
   "source": [
    "a = 'String'\n",
    "\n",
    "a = 10\n",
    "\n",
    "a"
   ]
  },
  {
   "cell_type": "code",
   "execution_count": null,
   "id": "ce2672a3",
   "metadata": {},
   "outputs": [],
   "source": [
    "a = np.array([1, 2, 3])\n",
    "b = a[1:].copy()\n",
    "b"
   ]
  },
  {
   "cell_type": "code",
   "execution_count": null,
   "id": "884de6de",
   "metadata": {},
   "outputs": [],
   "source": [
    "c = a[1:]\n",
    "c"
   ]
  },
  {
   "cell_type": "code",
   "execution_count": null,
   "id": "f48d4373",
   "metadata": {},
   "outputs": [],
   "source": [
    "c[0] = 5\n",
    "c"
   ]
  },
  {
   "cell_type": "code",
   "execution_count": null,
   "id": "54b1a564",
   "metadata": {},
   "outputs": [],
   "source": [
    "a"
   ]
  },
  {
   "cell_type": "code",
   "execution_count": null,
   "id": "48740858",
   "metadata": {},
   "outputs": [],
   "source": []
  },
  {
   "cell_type": "code",
   "execution_count": 11,
   "metadata": {},
   "outputs": [
    {
     "data": {
      "text/plain": [
       "array([[2, 3],\n",
       "       [6, 7]])"
      ]
     },
     "execution_count": 11,
     "metadata": {},
     "output_type": "execute_result"
    }
   ],
   "source": [
    "a = np.array([[1, 2, 3, 4], [5, 6, 7, 8]])\n",
    "\n",
    "#a[0] # por indice\n",
    "\n",
    "#a[1:3] # por slice\n",
    "\n",
    "a[0 , 3] # por indices\n",
    "\n",
    "a[0:2, 1:3] # por slices"
   ]
  },
  {
   "cell_type": "markdown",
   "id": "111d5f96",
   "metadata": {},
   "source": [
    "### 2.4. Máscara Booleana e Seleção Avançada  <a name=\"24boolmask\"></a>\n",
    "\n",
    "Uma outra forma de seleção é por meio de uma lista de posições."
   ]
  },
  {
   "cell_type": "code",
   "execution_count": 12,
   "id": "3b280286",
   "metadata": {},
   "outputs": [
    {
     "data": {
      "text/plain": [
       "array([2, 3, 9])"
      ]
     },
     "execution_count": 12,
     "metadata": {},
     "output_type": "execute_result"
    }
   ],
   "source": [
    "a = np.array([1, 2, 3, 4, 5, 6, 7, 8, 9])\n",
    "\n",
    "a[[1, 2, -1]]"
   ]
  },
  {
   "cell_type": "markdown",
   "id": "bc30a831",
   "metadata": {},
   "source": [
    "No caso de arrays multidimensionais, vamos ter que passar uma lista para cada dimensão. O NumPy nos retornará os elementos formados pelos pares (se 2D, se for 3D são trincas, se 4D quadras, etc.) dessas listas."
   ]
  },
  {
   "cell_type": "code",
   "execution_count": 14,
   "id": "0eeeb0dc",
   "metadata": {},
   "outputs": [
    {
     "data": {
      "text/plain": [
       "array([[1, 2, 3],\n",
       "       [4, 5, 6],\n",
       "       [7, 8, 9]])"
      ]
     },
     "execution_count": 14,
     "metadata": {},
     "output_type": "execute_result"
    }
   ],
   "source": [
    "a = np.array([1, 2, 3, 4, 5, 6, 7, 8, 9]).reshape(3,3)\n",
    "\n",
    "a"
   ]
  },
  {
   "cell_type": "code",
   "execution_count": 16,
   "id": "b65a9fa5",
   "metadata": {},
   "outputs": [
    {
     "data": {
      "text/plain": [
       "array([6, 2])"
      ]
     },
     "execution_count": 16,
     "metadata": {},
     "output_type": "execute_result"
    }
   ],
   "source": [
    "a[[1, 0], [2, 1]]"
   ]
  },
  {
   "cell_type": "code",
   "execution_count": 29,
   "metadata": {},
   "outputs": [
    {
     "data": {
      "text/plain": [
       "array([[  0, 100, 100,   3,   4,   5,   6],\n",
       "       [  7,   8,   9,  10,  11,  12,  13],\n",
       "       [ 14,  15,  16,  17, 100, 100,  20]])"
      ]
     },
     "execution_count": 29,
     "metadata": {},
     "output_type": "execute_result"
    }
   ],
   "source": [
    "np_mat = np.array([[0,   1,  2,  3,  4,  5,  6], \n",
    "                   [7,   8,  9, 10, 11, 12, 13],\n",
    "                   [14, 15, 16, 17, 18, 19, 20]])\n",
    "\n",
    "# [1, 2, 18, 19]\n",
    "\n",
    "# recuperei do processo X\n",
    "lista_indice_linha = [0, 0, 2, 2]\n",
    "lista_indice_coluna = [1, 2, 4, 5]\n",
    "\n",
    "# colocar 100 nessas posições\n",
    "\n",
    "#for indice in range(len(lista_indice_linha)):\n",
    "#    np_mat[lista_indice_linha[indice], lista_indice_coluna[indice]] = 100\n",
    "\n",
    "np_mat[lista_indice_linha, lista_indice_coluna] = 100\n",
    "\n",
    "#np_mat[[0, 0, 2, 2], [1, 2, 4, 5]] = 100\n",
    "\n",
    "np_mat"
   ]
  },
  {
   "cell_type": "markdown",
   "id": "de66a77e",
   "metadata": {},
   "source": [
    "Uma outra forma muito comum de selecionar elementos de um ndarray é usando o que chamamos de \"máscara booleana\". Ela nada mais é do que um array de elementos booleanos (\"True\" ou \"False\"). Tanto faz se for uma lista do Python ou um ndarray do NumPy. \n",
    "\n",
    "Assim, quando passamos essa máscara para um array do NumPy, ele nos retorna apenas as posições onde temos o valor \"True\"."
   ]
  },
  {
   "cell_type": "code",
   "execution_count": 30,
   "id": "cb6e29b3",
   "metadata": {},
   "outputs": [
    {
     "data": {
      "text/plain": [
       "array([1, 2, 3, 4, 5, 6, 7, 8, 9])"
      ]
     },
     "execution_count": 30,
     "metadata": {},
     "output_type": "execute_result"
    }
   ],
   "source": [
    "a = np.array([1, 2, 3, 4, 5, 6, 7, 8, 9])\n",
    "a"
   ]
  },
  {
   "cell_type": "code",
   "execution_count": 33,
   "metadata": {},
   "outputs": [
    {
     "data": {
      "text/plain": [
       "array([1, 2, 3, 8])"
      ]
     },
     "execution_count": 33,
     "metadata": {},
     "output_type": "execute_result"
    }
   ],
   "source": [
    "a[[0, 1, 2, 7]]"
   ]
  },
  {
   "cell_type": "code",
   "execution_count": 32,
   "id": "d5bd87f4",
   "metadata": {},
   "outputs": [
    {
     "data": {
      "text/plain": [
       "array([1, 2, 3, 8])"
      ]
     },
     "execution_count": 32,
     "metadata": {},
     "output_type": "execute_result"
    }
   ],
   "source": [
    "a[[True, True, True, False, False, False, False, True, False]]"
   ]
  },
  {
   "cell_type": "markdown",
   "id": "7253b943",
   "metadata": {},
   "source": [
    "Note, no exemplo acima, que temos 3 posições onde nossa máscara possui valor \"True\". A posição 0, a posição 1, e a posição 7, que correspondem aos valores 1, 2, e 8, respectivamente.\n",
    "\n",
    "Nós podemos gerar essa máscara a partir de comparações elemento a elemento de um ndarray. De fato, ao aplicar qualquer operador booleano, como\n",
    "\n",
    "- `>`,\n",
    "- `<`,\n",
    "- `<=`,\n",
    "- `>=`,\n",
    "- `==`,\n",
    "\n",
    "para comparar um ndarray com algum valor, o NumPy retorna um ndarray de valores booleanos. Esse novo ndarray vai ter o valor `True` nas posições onde a comparação do elemento original e esse valor separado for verdadeira. Teremos o valor `False` caso contrário.\n",
    "\n",
    "Vamos ver um exemplo."
   ]
  },
  {
   "cell_type": "code",
   "execution_count": 34,
   "id": "5311113f",
   "metadata": {},
   "outputs": [
    {
     "data": {
      "text/plain": [
       "array([[ 1, 10],\n",
       "       [20, 30]])"
      ]
     },
     "execution_count": 34,
     "metadata": {},
     "output_type": "execute_result"
    }
   ],
   "source": [
    "mat = np.array([1, 10, 20, 30]).reshape(2, 2)\n",
    "mat"
   ]
  },
  {
   "cell_type": "code",
   "execution_count": 37,
   "id": "9056aac5",
   "metadata": {},
   "outputs": [
    {
     "data": {
      "text/plain": [
       "array([[ True, False],\n",
       "       [ True,  True]])"
      ]
     },
     "execution_count": 37,
     "metadata": {},
     "output_type": "execute_result"
    }
   ],
   "source": [
    "(mat >= 20) | (mat <= 5) "
   ]
  },
  {
   "cell_type": "markdown",
   "id": "47191bd4",
   "metadata": {},
   "source": [
    "Podemos juntar os dois exemplos anteriores, de uso da máscara booleana como indexação e da criação de uma máscara, em uma única linha.\n"
   ]
  },
  {
   "cell_type": "code",
   "execution_count": 38,
   "id": "7b98864f",
   "metadata": {},
   "outputs": [
    {
     "data": {
      "text/plain": [
       "array([ 1, 20, 30])"
      ]
     },
     "execution_count": 38,
     "metadata": {},
     "output_type": "execute_result"
    }
   ],
   "source": [
    "mat[(mat >= 20) | (mat <= 5)]"
   ]
  },
  {
   "cell_type": "code",
   "execution_count": 47,
   "metadata": {},
   "outputs": [
    {
     "data": {
      "text/plain": [
       "array([ 8,  9, 10, 11, 20])"
      ]
     },
     "execution_count": 47,
     "metadata": {},
     "output_type": "execute_result"
    }
   ],
   "source": [
    "mat = np.array([[0,   1,  2,  3,  4,  5,  6], \n",
    "                [7,   8,  9, 10, 11, 12, 13],\n",
    "                [14, 15, 16, 17, 18, 19, 20]])\n",
    "\n",
    "# [1, 2, 18, 19]\n",
    "\n",
    "# [8, 9, 10, 11, 20]\n",
    "\n",
    "mat[ ((mat >= 8) & (mat <=11)) |  (mat == 20)]"
   ]
  },
  {
   "cell_type": "code",
   "execution_count": 52,
   "metadata": {},
   "outputs": [
    {
     "data": {
      "text/plain": [
       "array([ 1,  2,  3,  4,  5,  8,  9, 10, 11])"
      ]
     },
     "execution_count": 52,
     "metadata": {},
     "output_type": "execute_result"
    }
   ],
   "source": [
    "# [1,  2,  3,  4,  5]   -> slice\n",
    "\n",
    "# [1, 2, 3, 4, 5, 8, 9, 10, 11] \n",
    "\n",
    "mat[0, 1:6] # 5 colunas & 1 linha\n",
    "\n",
    "mat[1, 1:5] # 4 colunas & 1 linha\n",
    "\n",
    "np.hstack([mat[0, 1:6], mat[1, 1:5]])"
   ]
  },
  {
   "cell_type": "code",
   "execution_count": 56,
   "metadata": {},
   "outputs": [
    {
     "data": {
      "text/plain": [
       "array([ 1,  2,  3,  4,  5,  8,  9, 10, 11])"
      ]
     },
     "execution_count": 56,
     "metadata": {},
     "output_type": "execute_result"
    }
   ],
   "source": [
    "mat[((mat >= 1) & (mat <= 5)) | ((mat >= 8) & (mat <= 11))]"
   ]
  },
  {
   "cell_type": "code",
   "execution_count": 54,
   "metadata": {},
   "outputs": [
    {
     "data": {
      "text/plain": [
       "[1, 2, 3, 4, 5, 6, 7, 8, 9]"
      ]
     },
     "execution_count": 54,
     "metadata": {},
     "output_type": "execute_result"
    }
   ],
   "source": [
    "[1,2,3,4,5] + [6,7,8,9] \n",
    "[6,7,8,9] "
   ]
  },
  {
   "cell_type": "code",
   "execution_count": 55,
   "metadata": {},
   "outputs": [
    {
     "data": {
      "text/plain": [
       "array([ 1,  2,  3,  4,  5,  8,  9, 10, 11])"
      ]
     },
     "execution_count": 55,
     "metadata": {},
     "output_type": "execute_result"
    }
   ],
   "source": [
    "np.concatenate([mat[0, 1:6], mat[1, 1:5]])"
   ]
  },
  {
   "cell_type": "code",
   "execution_count": 61,
   "metadata": {},
   "outputs": [
    {
     "data": {
      "text/plain": [
       "array([6, 7, 8])"
      ]
     },
     "execution_count": 61,
     "metadata": {},
     "output_type": "execute_result"
    }
   ],
   "source": [
    "array_3d = np.array([1,2,3,4,5,6,7,8]).reshape(2,2,2)\n",
    "\n",
    "array_3d[[1], [1], [0]]\n",
    "\n",
    "\n",
    "array_3d[array_3d > 5]\n"
   ]
  },
  {
   "cell_type": "code",
   "execution_count": null,
   "metadata": {},
   "outputs": [],
   "source": [
    "mat = np.array([[0,   1,  2,  3,  4,  5,  6], \n",
    "                [7,   8,  9, 10, 11, 12, 13],\n",
    "                [14, 15, 16, 17, 18, 19, 20]])"
   ]
  },
  {
   "cell_type": "markdown",
   "id": "caea7d22",
   "metadata": {},
   "source": [
    "Neste exemplo, temos como retorno um array com os elementos 20 e 30, como era esperado.\n",
    "\n",
    "Podemos fazer operações semelhantes, mas restritos a seguir \"linha a linha\" ou \"coluna a coluna\". No nosso exemplo anterior, pode ser que queiramos todas as linhas onde existe um elemento com valor `10`. Outra opção seria pegar todas as colunas com pelo menos 1 elemento abaixo do valor `10`.\n",
    "\n",
    "Para isso, usamos os métodos auxiliares `any` e `all`.\n",
    "\n",
    "* any: se qualquer elemento do meu eixo for `True`, retorna um valor `True`\n",
    "* all: se, e somente se, todos os elementos do meu eixo forem `True`, retorna `True`\n",
    "\n",
    "Nas explicações, o \"eixo\" são as dimensões do ndarray, como discutido na sessão 2.2.\n",
    "\n",
    "Vamos ver alguns exemplos.\n",
    "\n",
    "O exemplo abaixo pega todas as linhas onde existe pelo menos um elemento com valor `10`."
   ]
  },
  {
   "cell_type": "code",
   "execution_count": 62,
   "metadata": {},
   "outputs": [],
   "source": [
    "mat = np.array([[0,   1,  2,  3,  4,  5,  6], \n",
    "                [7,   8,  9, 10, 11, 12, 13],\n",
    "                [14, 15, 16, 17, 18, 19, 20]])"
   ]
  },
  {
   "cell_type": "code",
   "execution_count": 76,
   "metadata": {},
   "outputs": [
    {
     "data": {
      "text/plain": [
       "array([[False, False, False, False, False, False, False],\n",
       "       [False, False, False, False,  True,  True,  True],\n",
       "       [ True,  True,  True,  True,  True,  True,  True]])"
      ]
     },
     "execution_count": 76,
     "metadata": {},
     "output_type": "execute_result"
    }
   ],
   "source": [
    "mat > 10"
   ]
  },
  {
   "cell_type": "code",
   "execution_count": 80,
   "id": "e7be1faa",
   "metadata": {},
   "outputs": [
    {
     "data": {
      "text/plain": [
       "array([False, False, False, False, False,  True,  True])"
      ]
     },
     "execution_count": 80,
     "metadata": {},
     "output_type": "execute_result"
    }
   ],
   "source": [
    "(mat > 4).all(axis=1) \n",
    "\n",
    "# axis = 1 -> retorna as linhas (filtrar)\n",
    "# axis = 0 -> retorna as colunas (filtrar)\n",
    "\n",
    "# all -> todos os elementos cumprem a condição\n",
    "# any -> pelo menos um elemento cumpre a condição"
   ]
  },
  {
   "cell_type": "code",
   "execution_count": 85,
   "metadata": {},
   "outputs": [
    {
     "data": {
      "text/plain": [
       "array([ True,  True,  True,  True,  True,  True,  True])"
      ]
     },
     "execution_count": 85,
     "metadata": {},
     "output_type": "execute_result"
    }
   ],
   "source": [
    "(mat > 10).any(axis=0)"
   ]
  },
  {
   "cell_type": "code",
   "execution_count": 96,
   "metadata": {},
   "outputs": [
    {
     "data": {
      "text/plain": [
       "array([[ 7,  8,  9, 10, 11, 12, 13],\n",
       "       [14, 15, 16, 17, 18, 19, 20]])"
      ]
     },
     "execution_count": 96,
     "metadata": {},
     "output_type": "execute_result"
    }
   ],
   "source": [
    "mat[ (mat > 10).any(axis=1),  : ]"
   ]
  },
  {
   "cell_type": "markdown",
   "id": "00e606f2",
   "metadata": {},
   "source": [
    "Por que usamos o eixo 1 nesse caso? Porque aqui, o eixo define por onde o NumPy vai \"traversar\" para avaliar o nosso ndarray.\n",
    "\n",
    "O eixo 0 são as linhas. Assim, quando olhamos *ao longo do eixo 0*, nós estamos caminhando através das linhas. Se usássemos `(mat == 10).any(axis=0)`, o NumPy vai ver se tem elementos que sejam iguais a 10 **ao longo do eixo 0**. \n",
    "\n",
    "O processo então vai ser o seguinte:\n",
    "- olha se `1 == 10`. Nesse caso, temos `False`. \n",
    "- o próximo elemento, **ao longo do eixo 0**, é o `20`.\n",
    "- `20 == 10` também retorna `False`. Logo, nessa coluna, a resposta será `False`.\n",
    "- segue para a próxima coluna.\n",
    "\n",
    "Já quando usamos `(mat == 10).any(axis=1)`, ele olha **ao longo do eixo 1**, ou seja, ao longo das colunas. O processo fica:\n",
    "- olha se `1 == 10`. Nesse caso, temos `False`. \n",
    "- o próximo elemento, **ao longo do eixo 1**, é o `10`.\n",
    "- `10 == 10` retorna `True`. Logo, existe pelo menos um valor `True`. Então, para essa linha, retornamos o valor `True`.\n",
    "- segue para a próxima linha.\n",
    "\n",
    "\n",
    "Como um outro exemplo, se quisermos pegar as colunas onde todos os elements sejam maiores que `5`, podemos usar o `all`. A regra de qual eixo usar é igual."
   ]
  },
  {
   "cell_type": "code",
   "execution_count": null,
   "id": "c2299198",
   "metadata": {},
   "outputs": [],
   "source": [
    "mat[:, (mat > 5).all(axis=0)]"
   ]
  },
  {
   "cell_type": "markdown",
   "id": "0b3d4a86",
   "metadata": {},
   "source": [
    "Perceba que neste exemplo, nós colocamos dois pontos na primeira posição. Isso garante que pegamos todas as linhas, e olhamos a nossa máscara booleana apenas ao longo das colunas. Além disso, colocamos `axis=0`, para olhar ao longo do eixo 0.\n",
    "\n",
    "Para nos ajudar a lembrar essa questão do parâmetro `axis`, podemos pensar que esse parâmetro define ao longo de qual eixo a função irá \"esmagar\" o nosso array."
   ]
  },
  {
   "cell_type": "code",
   "execution_count": 93,
   "id": "ec793479",
   "metadata": {},
   "outputs": [
    {
     "data": {
      "text/plain": [
       "array([[1, 2],\n",
       "       [4, 5],\n",
       "       [7, 8]])"
      ]
     },
     "execution_count": 93,
     "metadata": {},
     "output_type": "execute_result"
    }
   ],
   "source": [
    "new_mat = np.array([1, 2, 4, 5, 7, 8]).reshape(3, 2) \n",
    "new_mat"
   ]
  },
  {
   "cell_type": "code",
   "execution_count": 108,
   "id": "008ba843",
   "metadata": {},
   "outputs": [
    {
     "data": {
      "text/plain": [
       "array([[1, 2],\n",
       "       [4, 5]])"
      ]
     },
     "execution_count": 108,
     "metadata": {},
     "output_type": "execute_result"
    }
   ],
   "source": [
    "new_mat[(new_mat < 8).all(axis=1)] # Apenas as 2 primeiras linhas têm todos os elementos < 8"
   ]
  },
  {
   "cell_type": "code",
   "execution_count": 106,
   "id": "c0bd127f",
   "metadata": {},
   "outputs": [
    {
     "data": {
      "text/plain": [
       "array([[2],\n",
       "       [5],\n",
       "       [8]])"
      ]
     },
     "execution_count": 106,
     "metadata": {},
     "output_type": "execute_result"
    }
   ],
   "source": [
    "new_mat[:, (new_mat == 5).any(axis=0)] # Apenas a segunda coluna tem um elemento com valor 5"
   ]
  },
  {
   "cell_type": "code",
   "execution_count": null,
   "metadata": {},
   "outputs": [],
   "source": [
    "nome sexo idade\n",
    "\n",
    "Jorge M   29\n",
    "Maria F   20\n",
    "Jose  M   25\n",
    "\n",
    "\n",
    "Jorge M   29\n",
    "Jose  M   25"
   ]
  },
  {
   "cell_type": "markdown",
   "id": "5feefc57",
   "metadata": {},
   "source": [
    "#### Múltiplas condições\n",
    "\n",
    "Similar ao `and` do python, nós podemos usar múltiplas condições para filtrar dados da nossa matriz com o operador `&`.\n"
   ]
  },
  {
   "cell_type": "code",
   "execution_count": null,
   "id": "6c0a0296",
   "metadata": {},
   "outputs": [],
   "source": [
    "mask = (mat > 10) & (mat <= 20)\n",
    "\n",
    "mat[mask]"
   ]
  },
  {
   "cell_type": "markdown",
   "id": "0009fe94",
   "metadata": {},
   "source": [
    "**Observação:** note que os parênteses, além de melhorarem a legibilidade, são necessárias devido a ordem de precedência dos operadores `>`, `&` e `<=`. Se não colocarmos os parênteses, dará um erro.\n",
    "\n",
    "Além do `&`, também podemos fazer quaisquer operações booleanas básicas.\n",
    "\n",
    "No caso do `or`, nós temos o operador `|`.\n"
   ]
  },
  {
   "cell_type": "code",
   "execution_count": null,
   "id": "9ced4040",
   "metadata": {},
   "outputs": [],
   "source": [
    "mask = (mat == 1) | (mat >= 20)\n",
    "mat[mask]"
   ]
  },
  {
   "cell_type": "code",
   "execution_count": 109,
   "metadata": {},
   "outputs": [
    {
     "data": {
      "text/plain": [
       "array([[ 0,  1,  2,  3,  4,  5,  6],\n",
       "       [ 7,  8,  9, 10, 11, 12, 13],\n",
       "       [14, 15, 16, 17, 18, 19, 20]])"
      ]
     },
     "execution_count": 109,
     "metadata": {},
     "output_type": "execute_result"
    }
   ],
   "source": [
    "mat"
   ]
  },
  {
   "cell_type": "code",
   "execution_count": 121,
   "metadata": {},
   "outputs": [
    {
     "name": "stdout",
     "output_type": "stream",
     "text": [
      "Entrouu\n"
     ]
    }
   ],
   "source": [
    "nota = 20\n",
    "if (not (nota > 10)) | (nota > 5):  \n",
    "    print(\"Entrouu\")"
   ]
  },
  {
   "cell_type": "code",
   "execution_count": 115,
   "metadata": {},
   "outputs": [
    {
     "data": {
      "text/plain": [
       "True"
      ]
     },
     "execution_count": 115,
     "metadata": {},
     "output_type": "execute_result"
    }
   ],
   "source": [
    "# & = and\n",
    "# | = or\n",
    "# ~ = not"
   ]
  },
  {
   "cell_type": "code",
   "execution_count": 111,
   "metadata": {},
   "outputs": [
    {
     "data": {
      "text/plain": [
       "array([[ True,  True,  True,  True,  True,  True,  True],\n",
       "       [ True,  True,  True,  True, False, False, False],\n",
       "       [False, False, False, False, False, False, False]])"
      ]
     },
     "execution_count": 111,
     "metadata": {},
     "output_type": "execute_result"
    }
   ],
   "source": [
    "~(mat > 10)"
   ]
  },
  {
   "cell_type": "markdown",
   "id": "8ce267fb",
   "metadata": {},
   "source": [
    "No caso do `not`, nós temos o operador `~`.\n"
   ]
  },
  {
   "cell_type": "code",
   "execution_count": null,
   "metadata": {},
   "outputs": [],
   "source": []
  },
  {
   "cell_type": "code",
   "execution_count": 127,
   "id": "f7ef2af4",
   "metadata": {},
   "outputs": [
    {
     "data": {
      "text/plain": [
       "array([ 0,  1,  2,  3,  4,  5,  6,  7,  8,  9, 10, 11, 12, 13, 14, 15, 16,\n",
       "       17, 18, 19, 20])"
      ]
     },
     "execution_count": 127,
     "metadata": {},
     "output_type": "execute_result"
    }
   ],
   "source": [
    "mask = (mat == 1) & (mat >= 20)\n",
    "mat[~mask]"
   ]
  },
  {
   "cell_type": "markdown",
   "id": "6970ad3c",
   "metadata": {},
   "source": [
    "### 2.5. Métodos built-in de criação de arrays  <a name=\"25arraycreate\"></a>\n",
    "\n",
    "O NumPy já possui diversos métodos para gerar alguns arrays comuns mais conhecidos.\n",
    "Isso nos ajuda imensamente a criar algumas matrizes padrões para fazer contas.\n",
    "\n",
    "Primeiro, é possível gerar um array de zeros com qualquer formato."
   ]
  },
  {
   "cell_type": "code",
   "execution_count": 128,
   "id": "1888998f",
   "metadata": {},
   "outputs": [
    {
     "data": {
      "text/plain": [
       "array([[0., 0., 0.],\n",
       "       [0., 0., 0.]])"
      ]
     },
     "execution_count": 128,
     "metadata": {},
     "output_type": "execute_result"
    }
   ],
   "source": [
    "np.zeros((2, 3)) # O argumento é o formato do ndarray resultante."
   ]
  },
  {
   "cell_type": "code",
   "execution_count": 129,
   "id": "9e23c8ff",
   "metadata": {},
   "outputs": [
    {
     "data": {
      "text/plain": [
       "array([[[0, 0, 0, 0, 0],\n",
       "        [0, 0, 0, 0, 0]],\n",
       "\n",
       "       [[0, 0, 0, 0, 0],\n",
       "        [0, 0, 0, 0, 0]]])"
      ]
     },
     "execution_count": 129,
     "metadata": {},
     "output_type": "execute_result"
    }
   ],
   "source": [
    "zeros = np.zeros((2, 2, 5), dtype='int32')\n",
    "\n",
    "zeros"
   ]
  },
  {
   "cell_type": "markdown",
   "id": "0e37fc11",
   "metadata": {},
   "source": [
    "Para criar um array de uns, a sintaxe é semelhante."
   ]
  },
  {
   "cell_type": "code",
   "execution_count": 130,
   "id": "e15a42dd",
   "metadata": {},
   "outputs": [
    {
     "data": {
      "text/plain": [
       "array([[[1, 1],\n",
       "        [1, 1]],\n",
       "\n",
       "       [[1, 1],\n",
       "        [1, 1]],\n",
       "\n",
       "       [[1, 1],\n",
       "        [1, 1]],\n",
       "\n",
       "       [[1, 1],\n",
       "        [1, 1]]])"
      ]
     },
     "execution_count": 130,
     "metadata": {},
     "output_type": "execute_result"
    }
   ],
   "source": [
    "np.ones((4, 2, 2), dtype='int32')"
   ]
  },
  {
   "cell_type": "markdown",
   "id": "cad32c75",
   "metadata": {},
   "source": [
    "Se invés de uma matriz apenas de uns, nós quisermos usar outro número, podemos fazer isso aproveitando o `np.ones`. Basta multiplicarmos a matriz pelo número que desejamos."
   ]
  },
  {
   "cell_type": "code",
   "execution_count": 135,
   "id": "dd42ed39",
   "metadata": {},
   "outputs": [
    {
     "data": {
      "text/plain": [
       "array([[50, 50],\n",
       "       [50, 50]], dtype=int8)"
      ]
     },
     "execution_count": 135,
     "metadata": {},
     "output_type": "execute_result"
    }
   ],
   "source": [
    "np.ones((2, 2), dtype=\"int8\") * 50"
   ]
  },
  {
   "cell_type": "markdown",
   "id": "f31864f0",
   "metadata": {},
   "source": [
    "Mas o NumPy já tem uma opção mais direta, o `full`."
   ]
  },
  {
   "cell_type": "code",
   "execution_count": 139,
   "id": "66699e01",
   "metadata": {},
   "outputs": [
    {
     "data": {
      "text/plain": [
       "array([[8, 8],\n",
       "       [8, 8]], dtype=int8)"
      ]
     },
     "execution_count": 139,
     "metadata": {},
     "output_type": "execute_result"
    }
   ],
   "source": [
    "np.full((2, 2), 8, dtype=\"int8\") # O primeiro argumento é o formato, o segundo é o número"
   ]
  },
  {
   "cell_type": "markdown",
   "id": "1e6b7821",
   "metadata": {},
   "source": [
    "Também temos o `full_like`, que copia o formato de uma matriz que já tenha sido declarada antes."
   ]
  },
  {
   "cell_type": "code",
   "execution_count": 142,
   "id": "198b74cd",
   "metadata": {},
   "outputs": [
    {
     "data": {
      "text/plain": [
       "array([[15, 15, 15, 15, 15, 15, 15],\n",
       "       [15, 15, 15, 15, 15, 15, 15]])"
      ]
     },
     "execution_count": 142,
     "metadata": {},
     "output_type": "execute_result"
    }
   ],
   "source": [
    "np_mat = np.array([[1, 2,  3,  4,  5,  6,  7], \n",
    "                       [8, 9, 10, 11, 12, 13, 14]])\n",
    "\n",
    "np.full_like(np_mat, 15)"
   ]
  },
  {
   "cell_type": "markdown",
   "id": "a87d921e",
   "metadata": {},
   "source": [
    "Outra função para criação de arrays é `np.repeat`. Ela repete um determinado array na direção do eixo escolhido.\n",
    "\n",
    "Para um vetor de 1D, temos apenas 1 eixo, mas para matrizes, tempos dois. O eixo 0 é linha, o eixo 1 é coluna."
   ]
  },
  {
   "cell_type": "code",
   "execution_count": 146,
   "id": "bec49bae",
   "metadata": {},
   "outputs": [
    {
     "data": {
      "text/plain": [
       "array([1, 1, 1, 2, 2, 2, 3, 3, 3])"
      ]
     },
     "execution_count": 146,
     "metadata": {},
     "output_type": "execute_result"
    }
   ],
   "source": [
    "r1 = np.repeat(arr, 3)\n",
    "\n",
    "r1"
   ]
  },
  {
   "cell_type": "markdown",
   "id": "86e1e598",
   "metadata": {},
   "source": [
    "Para fazermos uma matriz, mudamos o formato da variável `arr` de (3,) para (1,3)."
   ]
  },
  {
   "cell_type": "code",
   "execution_count": 148,
   "id": "9adc986b",
   "metadata": {},
   "outputs": [
    {
     "name": "stdout",
     "output_type": "stream",
     "text": [
      "[[1 2 3]\n",
      " [1 2 3]\n",
      " [1 2 3]]\n"
     ]
    }
   ],
   "source": [
    "arr = np.array([[1, 2, 3]])\n",
    "r1 = np.repeat(arr, 3, axis=0)\n",
    "print(r1)"
   ]
  },
  {
   "cell_type": "code",
   "execution_count": 151,
   "id": "e637ef55",
   "metadata": {},
   "outputs": [
    {
     "name": "stdout",
     "output_type": "stream",
     "text": [
      "[[1 1 1 2 2 2 3 3 3]]\n"
     ]
    }
   ],
   "source": [
    "r2 = np.repeat(arr, 3, axis=1)\n",
    "print(r2)"
   ]
  },
  {
   "cell_type": "markdown",
   "id": "d4c3f67c",
   "metadata": {},
   "source": [
    "#### Criando arrays com listas de números\n",
    "\n",
    "Um caso específico de criação de arrays é quando queremos gerar uma lista sequencial de números. Isso é muito comum, por exemplo, quando queremos calcular uma função matemática em vários pontos de uma única vez.\n",
    "\n",
    "A primeira função do NumPy para criar essa sequência numérica é `np.arange`. Esta função retorna elementos igualmente espaçados por um step (que por padrão é 1) dentro de um certo intervalo.\n"
   ]
  },
  {
   "cell_type": "code",
   "execution_count": 152,
   "id": "a8804bf7",
   "metadata": {},
   "outputs": [
    {
     "data": {
      "text/plain": [
       "[0, 1, 2, 3, 4, 5, 6, 7, 8, 9]"
      ]
     },
     "execution_count": 152,
     "metadata": {},
     "output_type": "execute_result"
    }
   ],
   "source": [
    "list(range(0, 10))"
   ]
  },
  {
   "cell_type": "code",
   "execution_count": 153,
   "metadata": {},
   "outputs": [
    {
     "data": {
      "text/plain": [
       "array([0, 1, 2, 3, 4, 5, 6, 7, 8, 9])"
      ]
     },
     "execution_count": 153,
     "metadata": {},
     "output_type": "execute_result"
    }
   ],
   "source": [
    "arr = np.array(list(range(0, 10)))\n",
    "\n",
    "arr"
   ]
  },
  {
   "cell_type": "code",
   "execution_count": 154,
   "id": "1c5eacd7",
   "metadata": {},
   "outputs": [
    {
     "data": {
      "text/plain": [
       "array([0, 1, 2, 3, 4, 5, 6, 7, 8, 9])"
      ]
     },
     "execution_count": 154,
     "metadata": {},
     "output_type": "execute_result"
    }
   ],
   "source": [
    "np.arange(0, 10)"
   ]
  },
  {
   "cell_type": "markdown",
   "id": "d5d59b37",
   "metadata": {},
   "source": [
    "A função `np.arange` é semelhante à função `range` do Python, porém permite que peguemos valores de ponto flutuante (números com decimal) dentro do nosso intervalo."
   ]
  },
  {
   "cell_type": "code",
   "execution_count": 156,
   "metadata": {},
   "outputs": [
    {
     "data": {
      "text/plain": [
       "[1, 3, 5, 7, 9]"
      ]
     },
     "execution_count": 156,
     "metadata": {},
     "output_type": "execute_result"
    }
   ],
   "source": [
    "list(range(1, 10, 2))"
   ]
  },
  {
   "cell_type": "code",
   "execution_count": 157,
   "id": "469f1e35",
   "metadata": {},
   "outputs": [
    {
     "data": {
      "text/plain": [
       "array([1, 3, 5, 7, 9])"
      ]
     },
     "execution_count": 157,
     "metadata": {},
     "output_type": "execute_result"
    }
   ],
   "source": [
    "np.arange(1, 10, 2)"
   ]
  },
  {
   "cell_type": "markdown",
   "id": "dd5d47a0",
   "metadata": {},
   "source": [
    "Outro caso comum que esbarramos para criar uma lista sequencial é quando queremos escolher uma grande quantidade de pontos entre dois números. Por exemplo, pode ser que nós queiramos fazer um mesmo cálculo para 10 valores entre 3 e 7.\n",
    "\n",
    "Neste caso, usamos a função `np.linspace`."
   ]
  },
  {
   "cell_type": "code",
   "execution_count": 160,
   "id": "37e6a81d",
   "metadata": {},
   "outputs": [
    {
     "data": {
      "text/plain": [
       "array([3.        , 4.66666667, 6.33333333, 8.        ])"
      ]
     },
     "execution_count": 160,
     "metadata": {},
     "output_type": "execute_result"
    }
   ],
   "source": [
    "np.linspace(3, 8, num=4)"
   ]
  },
  {
   "cell_type": "markdown",
   "id": "91e5f512",
   "metadata": {},
   "source": [
    "#### Números decimais aleatórios\n",
    "\n",
    "O NumPy tem um sub-módulo chamado `random` (cujas funções são acessadas usando o preâmbulo `np.random`). Nele, existe um conjunto de funções focadas em gerar arrays com números aleatórios.\n",
    "\n",
    "Por exemplo, a função `np.random.random_sample` retorna valores aleatórios entre 0 e 1."
   ]
  },
  {
   "cell_type": "code",
   "execution_count": 161,
   "id": "1f5acb4b",
   "metadata": {},
   "outputs": [
    {
     "data": {
      "text/plain": [
       "array([[0.00538125, 0.46663157],\n",
       "       [0.11198619, 0.47926039],\n",
       "       [0.96091199, 0.82204145],\n",
       "       [0.38012731, 0.42670345]])"
      ]
     },
     "execution_count": 161,
     "metadata": {},
     "output_type": "execute_result"
    }
   ],
   "source": [
    "np.random.random_sample((4, 2)) # O argumento é o formato do array resultante."
   ]
  },
  {
   "cell_type": "markdown",
   "id": "f4bcdfc6",
   "metadata": {},
   "source": [
    "A função `np.random.rand` é um \"alias\" da função de cima. Isso significa que, por trás dos panos, ela literalmente só executa a função `np.random.random_sample`.\n",
    "\n",
    "Essa função existe para facilitar a migração de códigos de outras linguagens de computação numérica (especificamente, códigos de uma linguagem chamada MATLAB)."
   ]
  },
  {
   "cell_type": "code",
   "execution_count": 171,
   "id": "b726b008",
   "metadata": {},
   "outputs": [
    {
     "data": {
      "text/plain": [
       "array([ 3, 11,  1, 16,  4, 19, 18, 16,  6, 15])"
      ]
     },
     "execution_count": 171,
     "metadata": {},
     "output_type": "execute_result"
    }
   ],
   "source": [
    "np.random.randint(1, 20+1, (10))"
   ]
  },
  {
   "cell_type": "code",
   "execution_count": 174,
   "metadata": {},
   "outputs": [
    {
     "data": {
      "text/plain": [
       "25"
      ]
     },
     "execution_count": 174,
     "metadata": {},
     "output_type": "execute_result"
    }
   ],
   "source": [
    "arr=  np.arange(1, 10, 2)\n",
    "\n",
    "np.sum(arr)"
   ]
  },
  {
   "cell_type": "markdown",
   "id": "8cb1fb0f",
   "metadata": {},
   "source": [
    "Se quisermos criar um array de números inteiros abaixo de um certo valor, escolhidos ao acaso, usamos a função `np.random.randint`."
   ]
  },
  {
   "cell_type": "code",
   "execution_count": null,
   "id": "59015a93",
   "metadata": {},
   "outputs": [],
   "source": [
    "np.random.randint(7, size=(3, 3)) # Números menores que 7, formato 3 x 3"
   ]
  },
  {
   "cell_type": "markdown",
   "id": "24204f24",
   "metadata": {},
   "source": [
    "Os argumentos principais da função `np.random.randint` são `low`, `high` e `size`, que definem o menor inteiro possível, o maior inteiro possível, e o tamanho do array resultante.\n"
   ]
  },
  {
   "cell_type": "code",
   "execution_count": null,
   "id": "af7eadf1",
   "metadata": {},
   "outputs": [],
   "source": [
    "np.random.randint(5, 10, (3,3))"
   ]
  },
  {
   "cell_type": "markdown",
   "id": "99f01d15",
   "metadata": {},
   "source": [
    "Para incluir o 10 entre os valores possíveis, basta trocar o argumento high para 11.\n"
   ]
  },
  {
   "cell_type": "markdown",
   "id": "6dda8731",
   "metadata": {},
   "source": [
    "## Exercícios\n",
    "\n",
    "1. Escreva um programa NumPy para criar uma matriz 3x4 preenchida com valores de 10 a 21.\n",
    "   \n",
    "   A saida esperada seria [[10, 11, 12, 13], [14, 15, 16, 17], [18, 19, 20, 21]]"
   ]
  },
  {
   "cell_type": "code",
   "execution_count": null,
   "id": "5db82d98",
   "metadata": {},
   "outputs": [],
   "source": []
  },
  {
   "cell_type": "markdown",
   "id": "2321a7a2",
   "metadata": {},
   "source": [
    "2. Escreva um programa NumPy para criar uma matriz bidimensional 8x5 de números aleatórios. Selecione números aleatórios entre 10 e 25."
   ]
  },
  {
   "cell_type": "code",
   "execution_count": null,
   "id": "41b87de9",
   "metadata": {},
   "outputs": [],
   "source": []
  },
  {
   "cell_type": "markdown",
   "id": "6e4c006c",
   "metadata": {},
   "source": [
    "3. Escreva um programa NumPy para criar uma matriz 10x10, na qual os elementos nas bordas serão iguais a 1 e no interior 0."
   ]
  },
  {
   "cell_type": "code",
   "execution_count": null,
   "id": "55a1170d",
   "metadata": {},
   "outputs": [],
   "source": []
  },
  {
   "cell_type": "markdown",
   "id": "42632e9e",
   "metadata": {},
   "source": [
    "4. Usando como base o 'Exercício de aquecimento', compare quanto demora somar um vetor da forma convencional e usando Numpy."
   ]
  },
  {
   "cell_type": "code",
   "execution_count": null,
   "id": "34925113",
   "metadata": {},
   "outputs": [],
   "source": []
  },
  {
   "cell_type": "markdown",
   "id": "a25d4368",
   "metadata": {},
   "source": [
    "## 3. Matemática com NumPy  <a name=\"3matematica\"></a>\n",
    "\n",
    "No início deste texto, nós introduzimos o NumPy como uma biblioteca muito utilizada para fazer cálculos numéricos. Vamos ver então as operações matemáticas disponíveis no NumPy.\n",
    "\n",
    "A primeira coisa a se observar é que as operações matemáticas básicas, como usadas no Python, podem ser usadas também para ndarrays. Só temos que lembrar sempre que elas são aplicadas elemento a elemento."
   ]
  },
  {
   "cell_type": "code",
   "execution_count": 183,
   "id": "a9fb989d",
   "metadata": {},
   "outputs": [
    {
     "data": {
      "text/plain": [
       "array([ 3.,  6.,  9., 12.])"
      ]
     },
     "execution_count": 183,
     "metadata": {},
     "output_type": "execute_result"
    }
   ],
   "source": [
    "vec1 = np.array([2., 4., 6., 8.])\n",
    "vec2 = np.array([1., 2., 3., 4.])\n",
    "vec1 + vec2                    # Soma"
   ]
  },
  {
   "cell_type": "code",
   "execution_count": 184,
   "id": "460b7b71",
   "metadata": {},
   "outputs": [
    {
     "data": {
      "text/plain": [
       "array([1., 2., 3., 4.])"
      ]
     },
     "execution_count": 184,
     "metadata": {},
     "output_type": "execute_result"
    }
   ],
   "source": [
    "vec1 - vec2                    # subtração"
   ]
  },
  {
   "cell_type": "code",
   "execution_count": 185,
   "id": "7519f577",
   "metadata": {},
   "outputs": [
    {
     "data": {
      "text/plain": [
       "array([ 2.,  8., 18., 32.])"
      ]
     },
     "execution_count": 185,
     "metadata": {},
     "output_type": "execute_result"
    }
   ],
   "source": [
    "vec1 * vec2                    # Multiplicação"
   ]
  },
  {
   "cell_type": "code",
   "execution_count": 186,
   "id": "a601f256",
   "metadata": {},
   "outputs": [
    {
     "data": {
      "text/plain": [
       "array([2., 2., 2., 2.])"
      ]
     },
     "execution_count": 186,
     "metadata": {},
     "output_type": "execute_result"
    }
   ],
   "source": [
    "vec1 / vec2                    # Divisão"
   ]
  },
  {
   "cell_type": "code",
   "execution_count": 187,
   "id": "dca24885",
   "metadata": {},
   "outputs": [
    {
     "data": {
      "text/plain": [
       "array([2.000e+00, 1.600e+01, 2.160e+02, 4.096e+03])"
      ]
     },
     "execution_count": 187,
     "metadata": {},
     "output_type": "execute_result"
    }
   ],
   "source": [
    "vec1 ** vec2                   # exponenciação "
   ]
  },
  {
   "cell_type": "markdown",
   "id": "ebc183e0",
   "metadata": {},
   "source": [
    "A notação com este \"e\" minúsculo significa que o número está escrito em potências de 10. Assim, `4.096e+03` significa `4096` (pois multiplicamos o número por 1000, que é dez elevado a 3). Ainda nesta linha, `2.160e+02` significa `216`.\n",
    "\n",
    "O NumPy também consegue fazer operações entre arrays e números (chamadas operações com escalares)."
   ]
  },
  {
   "cell_type": "code",
   "execution_count": 189,
   "metadata": {},
   "outputs": [
    {
     "data": {
      "text/plain": [
       "array([1., 2., 3., 4.])"
      ]
     },
     "execution_count": 189,
     "metadata": {},
     "output_type": "execute_result"
    }
   ],
   "source": [
    "vec2"
   ]
  },
  {
   "cell_type": "code",
   "execution_count": 196,
   "id": "0f5bde1a",
   "metadata": {},
   "outputs": [
    {
     "data": {
      "text/plain": [
       "array([5., 6., 7., 8.])"
      ]
     },
     "execution_count": 196,
     "metadata": {},
     "output_type": "execute_result"
    }
   ],
   "source": [
    "vec2 + 2                # Somar"
   ]
  },
  {
   "cell_type": "code",
   "execution_count": 197,
   "metadata": {},
   "outputs": [
    {
     "data": {
      "text/plain": [
       "array([3., 4., 5., 6.])"
      ]
     },
     "execution_count": 197,
     "metadata": {},
     "output_type": "execute_result"
    }
   ],
   "source": [
    "vec2"
   ]
  },
  {
   "cell_type": "code",
   "execution_count": 190,
   "id": "493ae694",
   "metadata": {},
   "outputs": [
    {
     "data": {
      "text/plain": [
       "array([-1.,  0.,  1.,  2.])"
      ]
     },
     "execution_count": 190,
     "metadata": {},
     "output_type": "execute_result"
    }
   ],
   "source": [
    "vec2 - 2                 # Subtrair"
   ]
  },
  {
   "cell_type": "code",
   "execution_count": 191,
   "id": "2b46acfd",
   "metadata": {},
   "outputs": [
    {
     "data": {
      "text/plain": [
       "array([2., 4., 6., 8.])"
      ]
     },
     "execution_count": 191,
     "metadata": {},
     "output_type": "execute_result"
    }
   ],
   "source": [
    "vec2 * 2                 # Multiplicar"
   ]
  },
  {
   "cell_type": "code",
   "execution_count": 192,
   "id": "ddfa3b1a",
   "metadata": {},
   "outputs": [
    {
     "data": {
      "text/plain": [
       "array([0.5, 1. , 1.5, 2. ])"
      ]
     },
     "execution_count": 192,
     "metadata": {},
     "output_type": "execute_result"
    }
   ],
   "source": [
    "vec2 / 2                 # Dividir"
   ]
  },
  {
   "cell_type": "code",
   "execution_count": 194,
   "id": "6178c732",
   "metadata": {},
   "outputs": [
    {
     "data": {
      "text/plain": [
       "array([ 1.,  4.,  9., 16.])"
      ]
     },
     "execution_count": 194,
     "metadata": {},
     "output_type": "execute_result"
    }
   ],
   "source": [
    "vec2 ** 2                   # Potência (elevar a um número)"
   ]
  },
  {
   "cell_type": "code",
   "execution_count": 195,
   "id": "8b71830c",
   "metadata": {},
   "outputs": [
    {
     "data": {
      "text/plain": [
       "array([3., 4., 5., 6.])"
      ]
     },
     "execution_count": 195,
     "metadata": {},
     "output_type": "execute_result"
    }
   ],
   "source": [
    "vec2 = vec2 + 2                # Incrementar\n",
    "vec2"
   ]
  },
  {
   "cell_type": "markdown",
   "id": "7846cb82",
   "metadata": {},
   "source": [
    "Agora uma dúvida é: se os nossos ndarrays tiverem formatos diferentes, então o NumPy apenas retorna um erro?\n",
    "\n",
    "Depende do caso. Ele consegue fazer a operação se a diferença entre os formatos seguirem algumas regras que veremos abaixo. Nestes casos, ele faz o que chamamos de **Broadcasting**.\n",
    "\n",
    "Se a diferença entre os formatos não seguirem as regrinhas necessárias para realizar broadcasting, então o NumPy retorna de fato um erro.\n"
   ]
  },
  {
   "cell_type": "code",
   "execution_count": 199,
   "id": "58601da2",
   "metadata": {},
   "outputs": [
    {
     "data": {
      "text/plain": [
       "array([2, 4])"
      ]
     },
     "execution_count": 199,
     "metadata": {},
     "output_type": "execute_result"
    }
   ],
   "source": [
    "a = np.array([1, 2, 3])\n",
    "b = np.array([2, 2])\n",
    "a * b"
   ]
  },
  {
   "cell_type": "markdown",
   "id": "66b7b856",
   "metadata": {},
   "source": [
    "### 3.1. Broadcasting  <a name=\"31broadcasting\"></a>\n",
    "\n",
    "O que fizemos, nas operações com escalar, é um tipo de broadcasting. Você pode imaginar que o que está acontecendo é o seguinte:\n",
    "- pegue o seu número,\n",
    "- crie um ndarray, de mesmo formato que o primeiro, mas cujos valores são o seu número.\n",
    "\n",
    "\n",
    "![broadcasting01](https://NumPy.org/doc/stable/_images/broadcasting_1.png \"broadcasting escalar\")\n",
    "\n",
    "(**Fonte:** Tutoriais oficiais do NumPy [\\[2\\]](#2))\n",
    "\n",
    "Na imagem acima (que foi tirada dos tutoriais oficiais do NumPy), nota que o valor 2 é \"esticado\". Ele é repetido ao longo do eixo 0 até ter um ndarray de formato (3,).\n",
    "\n",
    "\n",
    "Essa ideia pode ser generalizada. Sempre que fizer sentido \"esticar\" (ou repetir) o array menor até ele ficarcom o mesmo formato do maior, então o NumPy consegue realizar uma operação de broadcasting.\n"
   ]
  },
  {
   "cell_type": "code",
   "execution_count": 211,
   "id": "e59c407e",
   "metadata": {},
   "outputs": [
    {
     "name": "stdout",
     "output_type": "stream",
     "text": [
      "[[ 0  0  0  0]\n",
      " [10 10 10 10]\n",
      " [20 20 20 20]\n",
      " [30 30 30 30]]\n",
      "vetor\n",
      "[1 2]\n"
     ]
    }
   ],
   "source": [
    "matrix = np.array([[0, 0, 0, 0],\n",
    "                   [10, 10, 10, 10],\n",
    "                   [20, 20, 20, 20],\n",
    "                   [30, 30, 30, 30]])\n",
    "\n",
    "vec = np.array([1, 2])\n",
    "\n",
    "print(matrix)\n",
    "\n",
    "print(\"vetor\")\n",
    "print(vec)"
   ]
  },
  {
   "cell_type": "code",
   "execution_count": 212,
   "metadata": {},
   "outputs": [
    {
     "ename": "ValueError",
     "evalue": "operands could not be broadcast together with shapes (4,4) (2,) ",
     "output_type": "error",
     "traceback": [
      "\u001b[1;31m---------------------------------------------------------------------------\u001b[0m",
      "\u001b[1;31mValueError\u001b[0m                                Traceback (most recent call last)",
      "\u001b[1;32mc:\\Users\\jcham\\OneDrive\\Documentos\\Ada\\Skill Up\\Tecnicas de Programação I\\Aula 01\\Aula 01 - Numpy.ipynb Cell 246\u001b[0m line \u001b[0;36m1\n\u001b[1;32m----> <a href='vscode-notebook-cell:/c%3A/Users/jcham/OneDrive/Documentos/Ada/Skill%20Up/Tecnicas%20de%20Programa%C3%A7%C3%A3o%20I/Aula%2001/Aula%2001%20-%20Numpy.ipynb#Y625sZmlsZQ%3D%3D?line=0'>1</a>\u001b[0m matrix \u001b[39m+\u001b[39;49m vec\n",
      "\u001b[1;31mValueError\u001b[0m: operands could not be broadcast together with shapes (4,4) (2,) "
     ]
    }
   ],
   "source": [
    "matrix + vec"
   ]
  },
  {
   "cell_type": "code",
   "execution_count": 208,
   "id": "bc6743ec",
   "metadata": {},
   "outputs": [
    {
     "data": {
      "text/plain": [
       "array([[1, 1, 1],\n",
       "       [2, 2, 2],\n",
       "       [3, 3, 3],\n",
       "       [4, 4, 4]])"
      ]
     },
     "execution_count": 208,
     "metadata": {},
     "output_type": "execute_result"
    }
   ],
   "source": [
    "vec = np.array([[1, 2, 3, 4]])\n",
    "               \n",
    "np.repeat(vec.T, 3, axis=1)"
   ]
  },
  {
   "cell_type": "markdown",
   "id": "dadae695",
   "metadata": {},
   "source": [
    "![broadcasting02](https://NumPy.org/doc/stable/_images/broadcasting_2.png \"broadcasting array\")\n",
    "\n",
    "(**Fonte:** Tutoriais oficiais do NumPy [\\[2\\]](#2))\n",
    "\n",
    "A imagem acima mostra o que está acontecendo no código de exemplo que demos.\n",
    "\n",
    "Mas por que colocamos a expressão \"sempre que fizer sentido\"? O motivo é que a única coisa que o NumPy aceita fazer é repetir o array menor diversas vezes na direção de uma dimensão. Ele não reajusta o seu array!\n",
    "\n",
    "![not_broadcasting](https://NumPy.org/doc/stable/_images/broadcasting_3.png \"not broadcasting\")\n",
    "\n",
    "(**Fonte:** Tutoriais oficiais do NumPy [\\[2\\]](#2))"
   ]
  },
  {
   "cell_type": "code",
   "execution_count": null,
   "id": "889a982a",
   "metadata": {},
   "outputs": [],
   "source": [
    "matrix = np.array([[0, 0, 0],\n",
    "                       [10, 10, 10],\n",
    "                       [20, 20, 20],\n",
    "                       [30, 30, 30]])\n",
    "vec = np.array([1, 2, 3, 4])\n",
    "matrix + vec"
   ]
  },
  {
   "cell_type": "markdown",
   "id": "22ec2aa5",
   "metadata": {},
   "source": [
    "É interessante notar que essa \"esticada\" para realizar o broadcast só pode ser feita em 1 eixo. Mesmo que fosse possível copiar o array menor até ele ter o mesmo formato do array maior, se para isso precisarmos fazer copias ao longo de 2 eixos, então o NumPy retorna um erro."
   ]
  },
  {
   "cell_type": "code",
   "execution_count": null,
   "id": "3384a3c8",
   "metadata": {},
   "outputs": [],
   "source": [
    "a = np.array([[1, 2, 3, 4],\n",
    "              [3, 4, 5, 6],\n",
    "              [7, 8, 9, 10]])\n",
    "b = np.array([2, 2])\n",
    "a * b"
   ]
  },
  {
   "cell_type": "code",
   "execution_count": null,
   "id": "03913d75",
   "metadata": {},
   "outputs": [],
   "source": [
    "b = np.array([[2, 2]])\n",
    "a * b"
   ]
  },
  {
   "cell_type": "markdown",
   "id": "1806be7c",
   "metadata": {},
   "source": [
    "### 3.2. Funções matemáticas  <a name=\"32funcoesmath\"></a>\n",
    "\n",
    "Além de fazer operações matemáticas entre arrays, também podemos usar funções matemáticas conhecidas. O NumPy possui milhares de funções já implementadas. Por exemplo, ele possui as funções trigonométricas.\n",
    "\n",
    "Função seno:"
   ]
  },
  {
   "cell_type": "code",
   "execution_count": 213,
   "id": "cb096d73",
   "metadata": {},
   "outputs": [
    {
     "data": {
      "text/plain": [
       "array([ 0.84147098,  0.90929743,  0.14112001, -0.7568025 ])"
      ]
     },
     "execution_count": 213,
     "metadata": {},
     "output_type": "execute_result"
    }
   ],
   "source": [
    "x = np.array([1, 2, 3, 4])\n",
    "\n",
    "np.sin(x)"
   ]
  },
  {
   "cell_type": "markdown",
   "id": "a41a39a3",
   "metadata": {},
   "source": [
    "Função cosseno:"
   ]
  },
  {
   "cell_type": "code",
   "execution_count": 214,
   "id": "7578f4ad",
   "metadata": {},
   "outputs": [
    {
     "data": {
      "text/plain": [
       "array([ 0.54030231, -0.41614684, -0.9899925 , -0.65364362])"
      ]
     },
     "execution_count": 214,
     "metadata": {},
     "output_type": "execute_result"
    }
   ],
   "source": [
    "x = np.array([1, 2, 3, 4])\n",
    "np.cos(x)"
   ]
  },
  {
   "cell_type": "markdown",
   "id": "ca97b3e1",
   "metadata": {},
   "source": [
    "O NumPy também possui o valor de constantes matemáticas comuns, como o π (\"pi\")."
   ]
  },
  {
   "cell_type": "code",
   "execution_count": 215,
   "id": "34e9cda2",
   "metadata": {},
   "outputs": [
    {
     "data": {
      "text/plain": [
       "3.141592653589793"
      ]
     },
     "execution_count": 215,
     "metadata": {},
     "output_type": "execute_result"
    }
   ],
   "source": [
    "np.pi"
   ]
  },
  {
   "cell_type": "code",
   "execution_count": 216,
   "id": "cfdbc35a",
   "metadata": {},
   "outputs": [
    {
     "data": {
      "text/plain": [
       "array([ 0.0000000e+00,  1.0000000e+00,  1.2246468e-16, -1.0000000e+00,\n",
       "       -2.4492936e-16])"
      ]
     },
     "execution_count": 216,
     "metadata": {},
     "output_type": "execute_result"
    }
   ],
   "source": [
    "x = np.array([0, np.pi / 2 , np.pi, 3 * np.pi / 2, 2 * np.pi])\n",
    "np.sin(x)"
   ]
  },
  {
   "cell_type": "markdown",
   "id": "9092a68f",
   "metadata": {},
   "source": [
    "Os valores `1.2246468e-16` e `-2.4492936e-16` representam o número zero. O motivo de não estar zerado é que nem todas as operações com números de ponto flutuante (números reais com decimal) conseguem ser perfeitamente representadas pelo computador. Números de ponto flutuante sempre tem um grau de imprecisão. Então dentro da precisão do nosso cálculo, esses valores são basicamente o mesmo que zero.\n",
    " \n",
    "Depois das funções trigonométricas, vamos ver a função exponencial.\n"
   ]
  },
  {
   "cell_type": "code",
   "execution_count": 217,
   "id": "8f3d6721",
   "metadata": {},
   "outputs": [
    {
     "data": {
      "text/plain": [
       "array([ 2.71828183,  7.3890561 , 20.08553692, 54.59815003])"
      ]
     },
     "execution_count": 217,
     "metadata": {},
     "output_type": "execute_result"
    }
   ],
   "source": [
    "x = np.array([1, 2, 3, 4]) \n",
    "np.exp(x)"
   ]
  },
  {
   "cell_type": "code",
   "execution_count": 222,
   "metadata": {},
   "outputs": [
    {
     "data": {
      "text/plain": [
       "array([1.        , 1.41421356, 1.73205081, 2.        ])"
      ]
     },
     "execution_count": 222,
     "metadata": {},
     "output_type": "execute_result"
    }
   ],
   "source": [
    "np.sqrt(x)"
   ]
  },
  {
   "cell_type": "code",
   "execution_count": 221,
   "id": "d04533f7",
   "metadata": {},
   "outputs": [
    {
     "data": {
      "text/plain": [
       "array([1.        , 1.41421356, 1.73205081, 2.        ])"
      ]
     },
     "execution_count": 221,
     "metadata": {},
     "output_type": "execute_result"
    }
   ],
   "source": [
    "x ** 0.5\n",
    "\n",
    "# raiz quadrada -> np.sqrt()   -  operador potencia ** (0.5)\n",
    "\n",
    "\n",
    "\n"
   ]
  },
  {
   "cell_type": "markdown",
   "id": "58014842",
   "metadata": {},
   "source": [
    "Também existe a constante \"e\" (número euleriano) no NumPy. De fato, a função exponencial `np.exp(x)` nada mais é do que o número euleriano elevado a x.\n",
    "$$e^{x}$$\n",
    "\n",
    "Assim, também podemos fazer a mesma conta abaixo.\n"
   ]
  },
  {
   "cell_type": "code",
   "execution_count": 223,
   "id": "d49119c1",
   "metadata": {},
   "outputs": [
    {
     "data": {
      "text/plain": [
       "array([ 2.71828183,  7.3890561 , 20.08553692, 54.59815003])"
      ]
     },
     "execution_count": 223,
     "metadata": {},
     "output_type": "execute_result"
    }
   ],
   "source": [
    "x = np.array([1, 2, 3, 4])\n",
    "np.e ** x"
   ]
  },
  {
   "cell_type": "markdown",
   "id": "b788cb09",
   "metadata": {},
   "source": [
    "Como falamos, existem milhares de funções matemáticas nativamente no NumPy, e todas são muito úteis para fazermos cálculos matemáticos computacionais. Porém, se tentarmos listar todas, precisaríamos de um texto insanamente maior. Então melhor ficarmos só com uma ou outra mesmo.\n",
    "\n",
    "Temos falado, ao longo do texto, sobre o poder e eficiência do NumPy. Do ponto de vista de escrever código, uma enorme vantagem do NumPy é que podemos escrever equações matemáticas complicadas para todos os elementos do nosso array da mesma forma que escreveriamos no papel. \n",
    "\n",
    "Aqui entra em foco a ideia de \"operações vetorizadas\", que encontramos antes. No fim das contas, conseguimos escrever tudo de forma vetorizada no NumPy.\n",
    "\n",
    "Imagine a equação abaixo:\n",
    "$$ e^{x} + sin(x) $$\n",
    "\n",
    "Se quisermos achar o valor dela para diversos valores de \"x\" entre -1 e 2 no Python, teríamos que fazer um loop iterativo. No NumPy, a operação é mais clara e direta."
   ]
  },
  {
   "cell_type": "code",
   "execution_count": 224,
   "id": "ba9f5822",
   "metadata": {},
   "outputs": [
    {
     "data": {
      "text/plain": [
       "array([-1. , -0.7, -0.4, -0.1,  0.2,  0.5,  0.8,  1.1,  1.4,  1.7,  2. ])"
      ]
     },
     "execution_count": 224,
     "metadata": {},
     "output_type": "execute_result"
    }
   ],
   "source": [
    "x = np.linspace(-1, 2, 11)\n",
    "\n",
    "x"
   ]
  },
  {
   "cell_type": "code",
   "execution_count": 225,
   "id": "b56ac9fb",
   "metadata": {},
   "outputs": [
    {
     "data": {
      "text/plain": [
       "array([-0.47359154, -0.14763238,  0.2809017 ,  0.805004  ,  1.42007209,\n",
       "        2.12814681,  2.94289702,  3.89537338,  5.0406497 ,  6.4656122 ,\n",
       "        8.29835353])"
      ]
     },
     "execution_count": 225,
     "metadata": {},
     "output_type": "execute_result"
    }
   ],
   "source": [
    "np.exp(x) + np.sin(x)"
   ]
  },
  {
   "cell_type": "markdown",
   "id": "072be0a0",
   "metadata": {},
   "source": [
    "Por fim, o último conceito essencial de se conhecer quanto a operações matemáticas no NumPy é o de número infinito e de NaN (not a number).\n",
    "\n",
    "O NumPy possui duas constantes, `np.inf` e `np.NaN` que representam um \"número infinito\" e um erro, respectivamente.\n",
    "\n",
    "O \"número infinito\" é um valor de ponto flutuante que é maior que qualquer outro número. Se colocarmos um sinal negativo, ele vira \"menos infinito\", e passa a ser menor que qualquer outro número.\n"
   ]
  },
  {
   "cell_type": "code",
   "execution_count": 226,
   "metadata": {},
   "outputs": [
    {
     "data": {
      "text/plain": [
       "inf"
      ]
     },
     "execution_count": 226,
     "metadata": {},
     "output_type": "execute_result"
    }
   ],
   "source": [
    "np.inf"
   ]
  },
  {
   "cell_type": "code",
   "execution_count": 227,
   "id": "486c0d77",
   "metadata": {},
   "outputs": [
    {
     "data": {
      "text/plain": [
       "True"
      ]
     },
     "execution_count": 227,
     "metadata": {},
     "output_type": "execute_result"
    }
   ],
   "source": [
    "np.inf > 3823748932489"
   ]
  },
  {
   "cell_type": "code",
   "execution_count": 228,
   "id": "7e30f82c",
   "metadata": {},
   "outputs": [
    {
     "data": {
      "text/plain": [
       "True"
      ]
     },
     "execution_count": 228,
     "metadata": {},
     "output_type": "execute_result"
    }
   ],
   "source": [
    "-np.inf < -9832743293278423"
   ]
  },
  {
   "cell_type": "markdown",
   "id": "30eaa97f",
   "metadata": {},
   "source": [
    "Já o NaN é um valor indefinido. Sempre que nossa operação não fizer sentido, o numpy retorna um NaN.\n"
   ]
  },
  {
   "cell_type": "code",
   "execution_count": 231,
   "id": "6b7428da",
   "metadata": {},
   "outputs": [
    {
     "name": "stderr",
     "output_type": "stream",
     "text": [
      "C:\\Users\\jcham\\AppData\\Local\\Temp\\ipykernel_4724\\294685839.py:1: RuntimeWarning: invalid value encountered in scalar divide\n",
      "  np.array([ np.float64(0) / np.float64(0) ])\n"
     ]
    },
    {
     "data": {
      "text/plain": [
       "array([nan])"
      ]
     },
     "execution_count": 231,
     "metadata": {},
     "output_type": "execute_result"
    }
   ],
   "source": [
    "np.array([ np.float64(0) / np.float64(0) ])"
   ]
  },
  {
   "cell_type": "markdown",
   "id": "6a4d4f6c",
   "metadata": {},
   "source": [
    "## 4. Álgebra Linear e Estatística básica  <a name=\"4algelinestat\"></a>\n",
    "\n",
    "\n",
    "### 4.1. Álgebra Linear  <a name=\"41algelin\"></a>\n",
    "\n",
    "Da definição do Wikipédia:\n",
    "\n",
    "Álgebra linear é um ramo da matemática que surgiu do estudo detalhado de sistemas de equações lineares [...]. A álgebra linear utiliza alguns conceitos e estruturas fundamentais da matemática como vetores,[...] e matrizes.\n",
    "\n",
    "Independente da definição exata, a questão é que a álgebra linear estuda vetores e matrizes. Como vimos até aqui, o NumPy opera de forma bastante análoga à vetores e matrizes.\n",
    "\n",
    "O que não vimos ainda é como o NumPy nos permite também executar operações típicas da álgebra linear, como \"produto entre matrizes\".\n",
    "\n",
    "De fato, o NumPy tem a capacidade de realizar um \"produto escalar\" entre vetores, de fazer o produto de uma matriz por um vetor, e de fazer o produto entre matrizes.\n",
    "\n",
    "\n",
    "Vamos relembrar o que são essas operações. O produto escalar de dois vetores consiste em multiplicar os dois, elemento a elemento, e depois somar os resultados de cada par de elementos.\n",
    "\n",
    "![inner_prod](https://s3-sa-east-1.amazonaws.com/lcpi/d331eb96-4d9e-4cf4-98f6-23fdd8bebf7a.png)\n",
    "\n",
    "(Exemplo de produto escalar, ou \"produto interno\") <br>\n",
    "(**Fonte:** Imagem original Lets Code)\n",
    "\n",
    "\n",
    "A sintaxe do NumPy é dada abaixo."
   ]
  },
  {
   "cell_type": "code",
   "execution_count": null,
   "id": "3677d243",
   "metadata": {},
   "outputs": [],
   "source": [
    "vec1 = np.array([1, 2, 3])\n",
    "vec2 = np.array([2, 2, 3])\n",
    "\n",
    "vec1.dot(vec2)"
   ]
  },
  {
   "cell_type": "code",
   "execution_count": null,
   "id": "7707b611",
   "metadata": {},
   "outputs": [],
   "source": [
    "np.sum(vec1 * vec2)"
   ]
  },
  {
   "cell_type": "markdown",
   "id": "6e1fb9d5",
   "metadata": {},
   "source": [
    "Também podemos usar o operador `@`."
   ]
  },
  {
   "cell_type": "code",
   "execution_count": null,
   "id": "d06722a1",
   "metadata": {},
   "outputs": [],
   "source": [
    "vec1 = np.array([1, 2, 3])\n",
    "vec2 = np.array([2, 2, 3])\n",
    "vec1 @ vec2"
   ]
  },
  {
   "cell_type": "markdown",
   "id": "da921a64",
   "metadata": {},
   "source": [
    "O produto de matriz e vetor é dado fazendo algo semelhante ao produto escalar. Para cada linha da matriz, a gente faz o produto escalar entre aquela linha e o vetor. O resultado então vai ser o elemento que se encontra na mesma posição da linha.\n",
    "\n",
    "![matrix_vec](https://upload.wikimedia.org/wikipedia/commons/2/22/Matrix_vector_multiplication.svg)\n",
    "\n",
    "(**Fonte:** Usuária Claudia4 do site Wikimedia Commons, disponível em https://upload.wikimedia.org/wikipedia/commons/2/22/Matrix_vector_multiplication.svg)\n",
    "\n",
    "\n",
    "As possibilidades de sintaxe do NumPy seguem abaixo."
   ]
  },
  {
   "cell_type": "code",
   "execution_count": null,
   "id": "34769637",
   "metadata": {},
   "outputs": [],
   "source": [
    "matrix = np.array([[1, 1, 1],\n",
    "                   [1, 2, 3],\n",
    "                   [1, 1, 1],\n",
    "                   [1, 1, 1]])\n",
    "\n",
    "vec2 = np.array([2, 2, 3])\n",
    "\n",
    "matrix.dot(vec2)"
   ]
  },
  {
   "cell_type": "code",
   "execution_count": null,
   "id": "fb46d166",
   "metadata": {},
   "outputs": [],
   "source": [
    "matrix @ vec2"
   ]
  },
  {
   "cell_type": "markdown",
   "id": "82af6c8a",
   "metadata": {},
   "source": [
    "Na multiplicação entre matrizes, nós multiplicamos a linha da matriz da esquerda pela coluna da matriz da direita, elemento a elemento, e somamos o resultado (produto escalar entre a linha da matriz da esquerda com a coluna da matriz da direita) para obter uma nova matriz.\n",
    "\n",
    "Neste caso, quando fazemos o produto interno da linha N com a coluna M, nós obtemos o elemento que ficará na posição (N,M) na nova matriz.\n",
    "\n",
    "![matrix_mult01](https://upload.wikimedia.org/wikipedia/commons/d/d9/Hands_matrix_multiplication.svg)\n",
    "\n",
    "![matrix_mult02](https://upload.wikimedia.org/wikipedia/commons/e/eb/Matrix_multiplication_diagram_2.svg){width=\"400\", height=\"300\"}\n",
    "\n",
    "(**Fonte:** Usuários Guy vandegrift e Bilou do site Wikimedia Commons, disponíveis em\n",
    "https://upload.wikimedia.org/wikipedia/commons/d/d9/Hands_matrix_multiplication.svg e https://upload.wikimedia.org/wikipedia/commons/2/22/Matrix_vector_multiplication.svg)\n",
    "\n",
    "\n",
    "Como nos casos anteriores, abaixo temos a sintaxe do NumPy."
   ]
  },
  {
   "cell_type": "code",
   "execution_count": null,
   "id": "00116e63",
   "metadata": {},
   "outputs": [],
   "source": [
    "matrix1 = np.array([[1, 1, 1],\n",
    "                    [1, 2, 3],\n",
    "                    [1, 1, 1]])\n",
    "# 3 * 3\n",
    "\n",
    "matrix2 = np.array([[1, 1, 1],\n",
    "                    [1, 1, 1],\n",
    "                    [2, 1, 1]])\n",
    "# 3 * 3\n",
    "\n",
    "# resultado= 3 * 3\n",
    "\n",
    "matrix1.dot(matrix2)"
   ]
  },
  {
   "cell_type": "code",
   "execution_count": null,
   "id": "547b7a30",
   "metadata": {},
   "outputs": [],
   "source": [
    "matrix1 @ matrix2"
   ]
  },
  {
   "cell_type": "markdown",
   "id": "7cc88657",
   "metadata": {},
   "source": [
    "No campo da álgebra linear, existem algumas matrizes especiais muito úteis. O NumPy possui métodos de criação para a maioria delas.\n",
    "\n",
    "A mais importante é a chamada matriz identidade. Ela é uma matriz quadrada (mesmo número de linhas e colunas) com diagonal 1, e os outros valores 0."
   ]
  },
  {
   "cell_type": "code",
   "execution_count": null,
   "id": "7b17196f",
   "metadata": {},
   "outputs": [],
   "source": [
    "np.identity(3)"
   ]
  },
  {
   "cell_type": "markdown",
   "id": "dab16a76",
   "metadata": {},
   "source": [
    "Ela se chama identidade pois qualquer matriz multiplicada pela identidade (por produto de matrizes) dá a própria matriz."
   ]
  },
  {
   "cell_type": "code",
   "execution_count": null,
   "id": "f77d3476",
   "metadata": {},
   "outputs": [],
   "source": [
    "matrix1"
   ]
  },
  {
   "cell_type": "code",
   "execution_count": null,
   "id": "bef975f2",
   "metadata": {},
   "outputs": [],
   "source": [
    "matrix1 @ np.identity(3)"
   ]
  },
  {
   "cell_type": "markdown",
   "id": "1e7b812f",
   "metadata": {},
   "source": [
    "Outra operação comum com matrizes é a transposição.\n",
    "\n",
    "![transposition](https://s3-sa-east-1.amazonaws.com/lcpi/3d11b2c4-65cb-463a-9ccc-b858b065d2b3.png \"Transposição\")\n",
    "\n",
    "(**Fonte:** Imagem original Lets Code)\n",
    "\n",
    "A transposição pode ser feita com a função `np.transpose`."
   ]
  },
  {
   "cell_type": "code",
   "execution_count": null,
   "id": "99c2f12b",
   "metadata": {},
   "outputs": [],
   "source": [
    "a"
   ]
  },
  {
   "cell_type": "code",
   "execution_count": null,
   "id": "b3da1620",
   "metadata": {},
   "outputs": [],
   "source": [
    "np.transpose(a)"
   ]
  },
  {
   "cell_type": "markdown",
   "id": "742845d1",
   "metadata": {},
   "source": [
    "Outra forma é usando o atributo `T`:"
   ]
  },
  {
   "cell_type": "code",
   "execution_count": null,
   "id": "23fc38b2",
   "metadata": {},
   "outputs": [],
   "source": [
    "a.T"
   ]
  },
  {
   "cell_type": "markdown",
   "id": "b4003d42",
   "metadata": {},
   "source": [
    "Operações mais específicas se encontram no módulo `linalg` do NumPy.\n",
    "\n",
    "Um exemplo é encontrar o determinante de uma matriz. O determinante é um número característico de uma dada matriz, e que se relaciona com diversas propriedades dela.\n"
   ]
  },
  {
   "cell_type": "code",
   "execution_count": null,
   "id": "0f3e5ff6",
   "metadata": {},
   "outputs": [],
   "source": [
    "c = np.identity(3)\n",
    "print(c)"
   ]
  },
  {
   "cell_type": "code",
   "execution_count": null,
   "id": "8f6286d4",
   "metadata": {},
   "outputs": [],
   "source": [
    "np.linalg.det(c)"
   ]
  },
  {
   "cell_type": "markdown",
   "id": "0c579bfe",
   "metadata": {},
   "source": [
    "Para encontrar todas as funções específicas de Álgebra Linear que têm no NumPy, você pode acessar o link https://numpy.org/doc/stable/reference/routines.linalg.html.\n",
    "\n",
    "Algum exemplo de funções já implementadas na biblioteca:\n",
    "- Traço\n",
    "- Decomposição de vetores\n",
    "- Autovalor/autovetor\n",
    "- Norma de Matriz\n",
    "- Inversa\n",
    "- Etc...\n",
    "\n",
    "\n",
    "### 4.2. Estatística  <a name=\"42estat\"></a>\n",
    "\n",
    "Por fim, o NumPy também possui várias funções básicas de estatística, como mínimo, máximo, média, mediana, etc.\n",
    "```python"
   ]
  },
  {
   "cell_type": "code",
   "execution_count": null,
   "id": "5de5fef2",
   "metadata": {},
   "outputs": [],
   "source": [
    "stats = np.array([[1, 2, 3], [4, 5, 6]])\n",
    "\n",
    "stats"
   ]
  },
  {
   "cell_type": "code",
   "execution_count": null,
   "id": "4adbec82",
   "metadata": {},
   "outputs": [],
   "source": [
    "np.min(stats)"
   ]
  },
  {
   "cell_type": "code",
   "execution_count": null,
   "id": "6a1ef0e7",
   "metadata": {},
   "outputs": [],
   "source": [
    "np.max(stats)"
   ]
  },
  {
   "cell_type": "code",
   "execution_count": null,
   "id": "020894f5",
   "metadata": {},
   "outputs": [],
   "source": [
    "np.min(stats, axis=1) # Pega o menor valor de cada linha "
   ]
  },
  {
   "cell_type": "code",
   "execution_count": null,
   "id": "25c84836",
   "metadata": {},
   "outputs": [],
   "source": [
    "np.max(stats, axis=0) # Pega o maior valor de cada coluna"
   ]
  },
  {
   "cell_type": "code",
   "execution_count": null,
   "id": "a2fbb2c9",
   "metadata": {},
   "outputs": [],
   "source": [
    "np.sum(stats, axis=0) # Faz a soma dos valores de cada coluna"
   ]
  },
  {
   "cell_type": "code",
   "execution_count": null,
   "id": "b04d8d37",
   "metadata": {},
   "outputs": [],
   "source": [
    "np.sum(stats) / stats.size"
   ]
  },
  {
   "cell_type": "code",
   "execution_count": null,
   "id": "2311100b",
   "metadata": {},
   "outputs": [],
   "source": [
    "np.mean(stats) # Valor médio de todos os elementos do array"
   ]
  },
  {
   "cell_type": "code",
   "execution_count": null,
   "id": "de66b29f",
   "metadata": {},
   "outputs": [],
   "source": [
    "np.mean(stats, axis=0) # Valor médio de cada coluna do array"
   ]
  },
  {
   "cell_type": "code",
   "execution_count": null,
   "id": "e969b142",
   "metadata": {},
   "outputs": [],
   "source": [
    "np.mean(stats, axis=1) # Valor médio de cada linha do array"
   ]
  },
  {
   "cell_type": "markdown",
   "id": "66bb281a-27af-4b2c-a5dc-84a312f6e6ff",
   "metadata": {
    "jp-MarkdownHeadingCollapsed": true,
    "tags": []
   },
   "source": [
    "**Referências:**\n",
    "--------------\n",
    "\n",
    "1. <a name=\"1\"></a> Documentação NumPy, disponível em https://NumPy.org/doc/stable/index.html ;\n",
    "2. <a name=\"2\"></a> Tutorial NumPy, disponível em https://NumPy.org/doc/stable/user/absolute_beginners.html ;\n",
    "3. <a name=\"3\"></a> Funções matemáticas do NumPy, disponível em https://numpy.org/doc/stable/reference/routines.math.html\n",
    "4. <a name=\"4\"></a> Álgebra linear com NumPy, disponível em https://numpy.org/doc/stable/reference/routines.linalg.html\n",
    "5. <a name=\"5\"></a> Tutorial NumPy da ABRACD, disponível em https://abracd.org/tutorial-numpy-os-primeiros-passos-em-computacao-numerica-e-tratamento-de-dados/\n",
    "\n",
    "\n",
    "[NumPy_docs]: https://NumPy.org/doc/stable/index.html\n",
    "[NumPy_install]: https://NumPy.org/install/\n"
   ]
  }
 ],
 "metadata": {
  "kernelspec": {
   "display_name": "Python 3 (ipykernel)",
   "language": "python",
   "name": "python3"
  },
  "language_info": {
   "codemirror_mode": {
    "name": "ipython",
    "version": 3
   },
   "file_extension": ".py",
   "mimetype": "text/x-python",
   "name": "python",
   "nbconvert_exporter": "python",
   "pygments_lexer": "ipython3",
   "version": "3.11.2"
  }
 },
 "nbformat": 4,
 "nbformat_minor": 5
}
